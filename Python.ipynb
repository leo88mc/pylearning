{
  "nbformat": 4,
  "nbformat_minor": 0,
  "metadata": {
    "colab": {
      "name": "Python.ipynb",
      "provenance": [],
      "collapsed_sections": [],
      "toc_visible": true
    },
    "kernelspec": {
      "name": "python3",
      "display_name": "Python 3"
    }
  },
  "cells": [
    {
      "cell_type": "code",
      "metadata": {
        "id": "J9SU6wCUOzei",
        "colab_type": "code",
        "outputId": "18884025-9919-463e-9f9a-181cc366dfc2",
        "colab": {
          "base_uri": "https://localhost:8080/",
          "height": 34
        }
      },
      "source": [
        "1+1"
      ],
      "execution_count": 0,
      "outputs": [
        {
          "output_type": "execute_result",
          "data": {
            "text/plain": [
              "2"
            ]
          },
          "metadata": {
            "tags": []
          },
          "execution_count": 1
        }
      ]
    },
    {
      "cell_type": "markdown",
      "metadata": {
        "id": "m469CG-qRZet",
        "colab_type": "text"
      },
      "source": [
        "# Introducción a Python\n"
      ]
    },
    {
      "cell_type": "code",
      "metadata": {
        "id": "tBWXLIACR3rt",
        "colab_type": "code",
        "outputId": "a2faf95c-b8c2-4eb6-bef5-14a02b30ba87",
        "colab": {
          "base_uri": "https://localhost:8080/",
          "height": 34
        }
      },
      "source": [
        "!python --version"
      ],
      "execution_count": 0,
      "outputs": [
        {
          "output_type": "stream",
          "text": [
            "Python 3.6.9\n"
          ],
          "name": "stdout"
        }
      ]
    },
    {
      "cell_type": "markdown",
      "metadata": {
        "id": "9IZf2xqnTAlO",
        "colab_type": "text"
      },
      "source": [
        "Comando para cargue de archivos desde drive"
      ]
    },
    {
      "cell_type": "code",
      "metadata": {
        "id": "hpoQsTLPTKAA",
        "colab_type": "code",
        "outputId": "fad86dc8-9883-4da7-83e9-a00c1746ab9f",
        "colab": {
          "base_uri": "https://localhost:8080/",
          "height": 122
        }
      },
      "source": [
        "from google.colab import drive\n",
        "drive.mount('/content/drive')"
      ],
      "execution_count": 0,
      "outputs": [
        {
          "output_type": "stream",
          "text": [
            "Go to this URL in a browser: https://accounts.google.com/o/oauth2/auth?client_id=947318989803-6bn6qk8qdgf4n4g3pfee6491hc0brc4i.apps.googleusercontent.com&redirect_uri=urn%3aietf%3awg%3aoauth%3a2.0%3aoob&response_type=code&scope=email%20https%3a%2f%2fwww.googleapis.com%2fauth%2fdocs.test%20https%3a%2f%2fwww.googleapis.com%2fauth%2fdrive%20https%3a%2f%2fwww.googleapis.com%2fauth%2fdrive.photos.readonly%20https%3a%2f%2fwww.googleapis.com%2fauth%2fpeopleapi.readonly\n",
            "\n",
            "Enter your authorization code:\n",
            "··········\n",
            "Mounted at /content/drive\n"
          ],
          "name": "stdout"
        }
      ]
    },
    {
      "cell_type": "markdown",
      "metadata": {
        "id": "hFwwA5smVLyl",
        "colab_type": "text"
      },
      "source": [
        "Operaciones básicas"
      ]
    },
    {
      "cell_type": "code",
      "metadata": {
        "id": "bodm4kPgVPro",
        "colab_type": "code",
        "outputId": "1ecbb714-dd0d-4b68-c6fd-3811c25a8a81",
        "colab": {
          "base_uri": "https://localhost:8080/",
          "height": 34
        }
      },
      "source": [
        "1+1"
      ],
      "execution_count": 0,
      "outputs": [
        {
          "output_type": "execute_result",
          "data": {
            "text/plain": [
              "2"
            ]
          },
          "metadata": {
            "tags": []
          },
          "execution_count": 4
        }
      ]
    },
    {
      "cell_type": "code",
      "metadata": {
        "id": "JMepcx90VV1q",
        "colab_type": "code",
        "outputId": "c229be0c-4027-4bd4-da26-9b384862b189",
        "colab": {
          "base_uri": "https://localhost:8080/",
          "height": 34
        }
      },
      "source": [
        "10-8"
      ],
      "execution_count": 0,
      "outputs": [
        {
          "output_type": "execute_result",
          "data": {
            "text/plain": [
              "2"
            ]
          },
          "metadata": {
            "tags": []
          },
          "execution_count": 5
        }
      ]
    },
    {
      "cell_type": "code",
      "metadata": {
        "id": "Ax8MFavEVZ1f",
        "colab_type": "code",
        "outputId": "72313c71-1610-4ef0-b5a6-3bc3b2cfc918",
        "colab": {
          "base_uri": "https://localhost:8080/",
          "height": 34
        }
      },
      "source": [
        "1*3"
      ],
      "execution_count": 0,
      "outputs": [
        {
          "output_type": "execute_result",
          "data": {
            "text/plain": [
              "3"
            ]
          },
          "metadata": {
            "tags": []
          },
          "execution_count": 6
        }
      ]
    },
    {
      "cell_type": "code",
      "metadata": {
        "id": "EXEo6l0nVrzY",
        "colab_type": "code",
        "outputId": "652dc265-c261-4b4d-8c96-56fe27a200ab",
        "colab": {
          "base_uri": "https://localhost:8080/",
          "height": 34
        }
      },
      "source": [
        "2/2"
      ],
      "execution_count": 0,
      "outputs": [
        {
          "output_type": "execute_result",
          "data": {
            "text/plain": [
              "1.0"
            ]
          },
          "metadata": {
            "tags": []
          },
          "execution_count": 7
        }
      ]
    },
    {
      "cell_type": "code",
      "metadata": {
        "id": "mfqS5pu9Vy5W",
        "colab_type": "code",
        "outputId": "bf792b0f-1f28-4f61-95cf-76d8d962662c",
        "colab": {
          "base_uri": "https://localhost:8080/",
          "height": 34
        }
      },
      "source": [
        "4%2"
      ],
      "execution_count": 0,
      "outputs": [
        {
          "output_type": "execute_result",
          "data": {
            "text/plain": [
              "0"
            ]
          },
          "metadata": {
            "tags": []
          },
          "execution_count": 8
        }
      ]
    },
    {
      "cell_type": "code",
      "metadata": {
        "id": "9cn-tWZjV7F6",
        "colab_type": "code",
        "outputId": "f5d57a6d-01bb-44a6-8036-8211144111ba",
        "colab": {
          "base_uri": "https://localhost:8080/",
          "height": 34
        }
      },
      "source": [
        "2**2"
      ],
      "execution_count": 0,
      "outputs": [
        {
          "output_type": "execute_result",
          "data": {
            "text/plain": [
              "4"
            ]
          },
          "metadata": {
            "tags": []
          },
          "execution_count": 9
        }
      ]
    },
    {
      "cell_type": "markdown",
      "metadata": {
        "id": "YEtFOfhdWHcR",
        "colab_type": "text"
      },
      "source": [
        "Precedencia de operadores"
      ]
    },
    {
      "cell_type": "code",
      "metadata": {
        "id": "Go9htzDLWQZA",
        "colab_type": "code",
        "outputId": "2ebebcd4-f9bc-4eec-bcbb-c6ebfa1a0e57",
        "colab": {
          "base_uri": "https://localhost:8080/",
          "height": 34
        }
      },
      "source": [
        "2+3*5+5"
      ],
      "execution_count": 0,
      "outputs": [
        {
          "output_type": "execute_result",
          "data": {
            "text/plain": [
              "22"
            ]
          },
          "metadata": {
            "tags": []
          },
          "execution_count": 10
        }
      ]
    },
    {
      "cell_type": "markdown",
      "metadata": {
        "id": "JXQF0w47Wqjw",
        "colab_type": "text"
      },
      "source": [
        "Parentesis modifican la precedencia"
      ]
    },
    {
      "cell_type": "code",
      "metadata": {
        "id": "8vrmtSWzWyIx",
        "colab_type": "code",
        "outputId": "487d2961-ee83-4cd6-dfe3-da33a586c678",
        "colab": {
          "base_uri": "https://localhost:8080/",
          "height": 34
        }
      },
      "source": [
        "(2+3)*(5+5)"
      ],
      "execution_count": 0,
      "outputs": [
        {
          "output_type": "execute_result",
          "data": {
            "text/plain": [
              "50"
            ]
          },
          "metadata": {
            "tags": []
          },
          "execution_count": 11
        }
      ]
    },
    {
      "cell_type": "markdown",
      "metadata": {
        "id": "HUpdeIYKXKZf",
        "colab_type": "text"
      },
      "source": [
        "## Asignación de valores a variables"
      ]
    },
    {
      "cell_type": "markdown",
      "metadata": {
        "id": "oIFg1TcqXvuD",
        "colab_type": "text"
      },
      "source": [
        "no usar ortografia en los nombres de las variables, sin números o caracteres especiales "
      ]
    },
    {
      "cell_type": "code",
      "metadata": {
        "id": "60LvRaDaYMuY",
        "colab_type": "code",
        "colab": {}
      },
      "source": [
        "mi_variable =2"
      ],
      "execution_count": 0,
      "outputs": []
    },
    {
      "cell_type": "code",
      "metadata": {
        "id": "EepOMPOGZKzW",
        "colab_type": "code",
        "outputId": "67b45e42-6da8-490a-85b8-e261fa2f71b1",
        "colab": {
          "base_uri": "https://localhost:8080/",
          "height": 34
        }
      },
      "source": [
        "print(mi_variable)"
      ],
      "execution_count": 0,
      "outputs": [
        {
          "output_type": "stream",
          "text": [
            "2\n"
          ],
          "name": "stdout"
        }
      ]
    },
    {
      "cell_type": "code",
      "metadata": {
        "id": "RGCTKAEjXzJ7",
        "colab_type": "code",
        "colab": {}
      },
      "source": [
        "x=2 \n",
        "y=1"
      ],
      "execution_count": 0,
      "outputs": []
    },
    {
      "cell_type": "code",
      "metadata": {
        "id": "QuNdGkaRYWRF",
        "colab_type": "code",
        "colab": {}
      },
      "source": [
        "z=x+y"
      ],
      "execution_count": 0,
      "outputs": []
    },
    {
      "cell_type": "code",
      "metadata": {
        "id": "MQ5XQEOSYgai",
        "colab_type": "code",
        "outputId": "3cdf2ad6-fd6e-4238-d615-98a704fed125",
        "colab": {
          "base_uri": "https://localhost:8080/",
          "height": 34
        }
      },
      "source": [
        "print(z)"
      ],
      "execution_count": 0,
      "outputs": [
        {
          "output_type": "stream",
          "text": [
            "3\n"
          ],
          "name": "stdout"
        }
      ]
    },
    {
      "cell_type": "markdown",
      "metadata": {
        "id": "LyCDv_wWZCT9",
        "colab_type": "text"
      },
      "source": [
        "Variables boleanas"
      ]
    },
    {
      "cell_type": "code",
      "metadata": {
        "id": "9w4WQulrZIzg",
        "colab_type": "code",
        "outputId": "90e38e0c-3595-437e-f25b-b93bc0e07487",
        "colab": {
          "base_uri": "https://localhost:8080/",
          "height": 34
        }
      },
      "source": [
        "True"
      ],
      "execution_count": 0,
      "outputs": [
        {
          "output_type": "execute_result",
          "data": {
            "text/plain": [
              "True"
            ]
          },
          "metadata": {
            "tags": []
          },
          "execution_count": 5
        }
      ]
    },
    {
      "cell_type": "code",
      "metadata": {
        "id": "tzNMe9YRZShq",
        "colab_type": "code",
        "outputId": "e0b832f4-3fd0-4020-899a-bad8a98e8bf4",
        "colab": {
          "base_uri": "https://localhost:8080/",
          "height": 34
        }
      },
      "source": [
        "False"
      ],
      "execution_count": 0,
      "outputs": [
        {
          "output_type": "execute_result",
          "data": {
            "text/plain": [
              "False"
            ]
          },
          "metadata": {
            "tags": []
          },
          "execution_count": 6
        }
      ]
    },
    {
      "cell_type": "code",
      "metadata": {
        "id": "Ug4is2dZZdbI",
        "colab_type": "code",
        "colab": {}
      },
      "source": [
        "Variable_boolean=True"
      ],
      "execution_count": 0,
      "outputs": []
    },
    {
      "cell_type": "markdown",
      "metadata": {
        "id": "Rh9-dmMjZr2J",
        "colab_type": "text"
      },
      "source": [
        "Variables de tipo caracter"
      ]
    },
    {
      "cell_type": "code",
      "metadata": {
        "id": "0yuVw4zDZvH9",
        "colab_type": "code",
        "outputId": "8d991069-fd32-44bb-99c6-32c86d0f411c",
        "colab": {
          "base_uri": "https://localhost:8080/",
          "height": 34
        }
      },
      "source": [
        "'Comilla simple'"
      ],
      "execution_count": 0,
      "outputs": [
        {
          "output_type": "execute_result",
          "data": {
            "text/plain": [
              "'Comilla simple'"
            ]
          },
          "metadata": {
            "tags": []
          },
          "execution_count": 8
        }
      ]
    },
    {
      "cell_type": "code",
      "metadata": {
        "id": "fnLWn9jfaOhZ",
        "colab_type": "code",
        "outputId": "786c3c29-fb94-4f8e-f629-1e046d92b2f6",
        "colab": {
          "base_uri": "https://localhost:8080/",
          "height": 34
        }
      },
      "source": [
        "\"Comillas dobles\""
      ],
      "execution_count": 0,
      "outputs": [
        {
          "output_type": "execute_result",
          "data": {
            "text/plain": [
              "'Comillas dobles'"
            ]
          },
          "metadata": {
            "tags": []
          },
          "execution_count": 9
        }
      ]
    },
    {
      "cell_type": "code",
      "metadata": {
        "id": "jPSNNXL-ae4a",
        "colab_type": "code",
        "outputId": "7f564514-43f8-4a25-8549-caf15808c777",
        "colab": {
          "base_uri": "https://localhost:8080/",
          "height": 34
        }
      },
      "source": [
        "'mensaje \\' otra comilla'"
      ],
      "execution_count": 0,
      "outputs": [
        {
          "output_type": "execute_result",
          "data": {
            "text/plain": [
              "\"mensaje ' otra comilla\""
            ]
          },
          "metadata": {
            "tags": []
          },
          "execution_count": 10
        }
      ]
    },
    {
      "cell_type": "markdown",
      "metadata": {
        "id": "bDVKheo-a8bg",
        "colab_type": "text"
      },
      "source": [
        "Indices de cadenas - Indecadenas\n",
        "\n",
        "Podemos navegar posicionalmente la cadena de caracterespor medio de sus índices. "
      ]
    },
    {
      "cell_type": "code",
      "metadata": {
        "id": "bZ0GPLC-bOUd",
        "colab_type": "code",
        "colab": {}
      },
      "source": [
        "cadena=\"Este es el curso de Python\""
      ],
      "execution_count": 0,
      "outputs": []
    },
    {
      "cell_type": "code",
      "metadata": {
        "id": "rorqXfJObpxc",
        "colab_type": "code",
        "outputId": "e53cf541-5955-4a73-ba95-4ffc73327174",
        "colab": {
          "base_uri": "https://localhost:8080/",
          "height": 34
        }
      },
      "source": [
        "cadena[0:4]"
      ],
      "execution_count": 0,
      "outputs": [
        {
          "output_type": "execute_result",
          "data": {
            "text/plain": [
              "'Este'"
            ]
          },
          "metadata": {
            "tags": []
          },
          "execution_count": 17
        }
      ]
    },
    {
      "cell_type": "code",
      "metadata": {
        "id": "HEN4MGSHcnPe",
        "colab_type": "code",
        "outputId": "283d9916-2bd8-401e-fc40-1f449f219ff3",
        "colab": {
          "base_uri": "https://localhost:8080/",
          "height": 34
        }
      },
      "source": [
        "cadena[-1]"
      ],
      "execution_count": 0,
      "outputs": [
        {
          "output_type": "execute_result",
          "data": {
            "text/plain": [
              "'n'"
            ]
          },
          "metadata": {
            "tags": []
          },
          "execution_count": 18
        }
      ]
    },
    {
      "cell_type": "code",
      "metadata": {
        "id": "Eoqmw7xocvsQ",
        "colab_type": "code",
        "outputId": "36c0f966-998e-4982-afee-851449bcfdf9",
        "colab": {
          "base_uri": "https://localhost:8080/",
          "height": 34
        }
      },
      "source": [
        "cadena[::-1]"
      ],
      "execution_count": 0,
      "outputs": [
        {
          "output_type": "execute_result",
          "data": {
            "text/plain": [
              "'nohtyP ed osruc le se etsE'"
            ]
          },
          "metadata": {
            "tags": []
          },
          "execution_count": 20
        }
      ]
    },
    {
      "cell_type": "code",
      "metadata": {
        "id": "n7EYHZ0ycvpm",
        "colab_type": "code",
        "outputId": "52c7883a-f714-4cc1-a4c7-3a1671b8d2dd",
        "colab": {
          "base_uri": "https://localhost:8080/",
          "height": 34
        }
      },
      "source": [
        "cadena[0:28]"
      ],
      "execution_count": 0,
      "outputs": [
        {
          "output_type": "execute_result",
          "data": {
            "text/plain": [
              "'Este es el curso de Python'"
            ]
          },
          "metadata": {
            "tags": []
          },
          "execution_count": 26
        }
      ]
    },
    {
      "cell_type": "code",
      "metadata": {
        "id": "H_AmBOCSdxnK",
        "colab_type": "code",
        "outputId": "c06ccfbb-f91c-4129-80dc-9025c9bf5c1d",
        "colab": {
          "base_uri": "https://localhost:8080/",
          "height": 34
        }
      },
      "source": [
        "cadena[:]"
      ],
      "execution_count": 0,
      "outputs": [
        {
          "output_type": "execute_result",
          "data": {
            "text/plain": [
              "'Este es el curso de Python'"
            ]
          },
          "metadata": {
            "tags": []
          },
          "execution_count": 27
        }
      ]
    },
    {
      "cell_type": "markdown",
      "metadata": {
        "id": "ytgP3A2beG5T",
        "colab_type": "text"
      },
      "source": [
        "Manejo de listas"
      ]
    },
    {
      "cell_type": "code",
      "metadata": {
        "id": "YnmUN16DeMzH",
        "colab_type": "code",
        "outputId": "4fb63153-0a26-4998-ba32-cf0e08cb78bc",
        "colab": {
          "base_uri": "https://localhost:8080/",
          "height": 34
        }
      },
      "source": [
        "[1,2,3]"
      ],
      "execution_count": 0,
      "outputs": [
        {
          "output_type": "execute_result",
          "data": {
            "text/plain": [
              "[1, 2, 3]"
            ]
          },
          "metadata": {
            "tags": []
          },
          "execution_count": 29
        }
      ]
    },
    {
      "cell_type": "code",
      "metadata": {
        "id": "U1vpyvSMeY5x",
        "colab_type": "code",
        "outputId": "c571e3b5-769f-43d1-c706-e2f7e90861ec",
        "colab": {
          "base_uri": "https://localhost:8080/",
          "height": 34
        }
      },
      "source": [
        "['a','b','c']"
      ],
      "execution_count": 0,
      "outputs": [
        {
          "output_type": "execute_result",
          "data": {
            "text/plain": [
              "['a', 'b', 'c']"
            ]
          },
          "metadata": {
            "tags": []
          },
          "execution_count": 30
        }
      ]
    },
    {
      "cell_type": "code",
      "metadata": {
        "id": "T0D5PODdevbk",
        "colab_type": "code",
        "outputId": "22ae78b0-c494-45aa-a3e2-1989cf26f95f",
        "colab": {
          "base_uri": "https://localhost:8080/",
          "height": 34
        }
      },
      "source": [
        "['hola',2,[1,2]]"
      ],
      "execution_count": 0,
      "outputs": [
        {
          "output_type": "execute_result",
          "data": {
            "text/plain": [
              "['hola', 2, [1, 2]]"
            ]
          },
          "metadata": {
            "tags": []
          },
          "execution_count": 31
        }
      ]
    },
    {
      "cell_type": "code",
      "metadata": {
        "id": "_641rJRofTIT",
        "colab_type": "code",
        "colab": {}
      },
      "source": [
        "mi_lista=['a','b','c']"
      ],
      "execution_count": 0,
      "outputs": []
    },
    {
      "cell_type": "code",
      "metadata": {
        "id": "wWTu0ucTfhbl",
        "colab_type": "code",
        "outputId": "5ee2b3a9-034e-4919-e7b7-2f811e609d62",
        "colab": {
          "base_uri": "https://localhost:8080/",
          "height": 34
        }
      },
      "source": [
        "print(mi_lista)"
      ],
      "execution_count": 0,
      "outputs": [
        {
          "output_type": "stream",
          "text": [
            "['a', 'b', 'c']\n"
          ],
          "name": "stdout"
        }
      ]
    },
    {
      "cell_type": "code",
      "metadata": {
        "id": "lnATaWUYfuee",
        "colab_type": "code",
        "colab": {}
      },
      "source": [
        "mi_lista.append('d')"
      ],
      "execution_count": 0,
      "outputs": []
    },
    {
      "cell_type": "code",
      "metadata": {
        "id": "_zNbeCJXgFIc",
        "colab_type": "code",
        "outputId": "023391fb-3b88-47ee-a203-ce5284e23939",
        "colab": {
          "base_uri": "https://localhost:8080/",
          "height": 34
        }
      },
      "source": [
        "print(mi_lista)"
      ],
      "execution_count": 0,
      "outputs": [
        {
          "output_type": "stream",
          "text": [
            "['a', 'b', 'c', 'd']\n"
          ],
          "name": "stdout"
        }
      ]
    },
    {
      "cell_type": "code",
      "metadata": {
        "id": "8acMVP7zgRNu",
        "colab_type": "code",
        "colab": {}
      },
      "source": [
        "mi_lista.remove('c')"
      ],
      "execution_count": 0,
      "outputs": []
    },
    {
      "cell_type": "code",
      "metadata": {
        "id": "o5VjsbxWglkI",
        "colab_type": "code",
        "outputId": "3a3f341e-0bf5-4630-aaf5-4a56a5920760",
        "colab": {
          "base_uri": "https://localhost:8080/",
          "height": 34
        }
      },
      "source": [
        "print(mi_lista)"
      ],
      "execution_count": 0,
      "outputs": [
        {
          "output_type": "stream",
          "text": [
            "['a', 'b', 'd']\n"
          ],
          "name": "stdout"
        }
      ]
    },
    {
      "cell_type": "code",
      "metadata": {
        "id": "xgbD2BM6gzkc",
        "colab_type": "code",
        "colab": {}
      },
      "source": [
        "del mi_lista[1]"
      ],
      "execution_count": 0,
      "outputs": []
    },
    {
      "cell_type": "code",
      "metadata": {
        "id": "WY92wCFag5kz",
        "colab_type": "code",
        "outputId": "21668d66-065f-493d-f629-e35f490800a3",
        "colab": {
          "base_uri": "https://localhost:8080/",
          "height": 34
        }
      },
      "source": [
        "print(mi_lista)"
      ],
      "execution_count": 0,
      "outputs": [
        {
          "output_type": "stream",
          "text": [
            "['a', 'd']\n"
          ],
          "name": "stdout"
        }
      ]
    },
    {
      "cell_type": "markdown",
      "metadata": {
        "id": "fC3saS91q_oA",
        "colab_type": "text"
      },
      "source": [
        "Borrado por posición"
      ]
    },
    {
      "cell_type": "code",
      "metadata": {
        "id": "1uLB3pOArI4f",
        "colab_type": "code",
        "colab": {}
      },
      "source": [
        "mi_lista = ['a','c', 'd']"
      ],
      "execution_count": 0,
      "outputs": []
    },
    {
      "cell_type": "code",
      "metadata": {
        "id": "pwk_6bhC4rYf",
        "colab_type": "code",
        "colab": {}
      },
      "source": [
        "del mi_lista [1]"
      ],
      "execution_count": 0,
      "outputs": []
    },
    {
      "cell_type": "code",
      "metadata": {
        "id": "hr6YZvc96kxo",
        "colab_type": "code",
        "outputId": "957575fe-b908-4c1a-cbb1-e593ddeedc3a",
        "colab": {
          "base_uri": "https://localhost:8080/",
          "height": 34
        }
      },
      "source": [
        "print(mi_lista)"
      ],
      "execution_count": 0,
      "outputs": [
        {
          "output_type": "stream",
          "text": [
            "['a', 'd']\n"
          ],
          "name": "stdout"
        }
      ]
    },
    {
      "cell_type": "markdown",
      "metadata": {
        "id": "lQKl59WL6yZ-",
        "colab_type": "text"
      },
      "source": [
        "Eliminar el objeto de la lista para hacer algo con el dato. por ejemplo insertarlo en una nueva lista"
      ]
    },
    {
      "cell_type": "code",
      "metadata": {
        "id": "BuFbu5gc60hI",
        "colab_type": "code",
        "outputId": "7c687a2b-b9eb-4052-b353-621ae7098b32",
        "colab": {
          "base_uri": "https://localhost:8080/",
          "height": 34
        }
      },
      "source": [
        "mi_lista.pop(1)"
      ],
      "execution_count": 0,
      "outputs": [
        {
          "output_type": "execute_result",
          "data": {
            "text/plain": [
              "'d'"
            ]
          },
          "metadata": {
            "tags": []
          },
          "execution_count": 8
        }
      ]
    },
    {
      "cell_type": "code",
      "metadata": {
        "id": "CyupVZm-7Bdg",
        "colab_type": "code",
        "outputId": "26c4910f-c4c2-4f36-af6a-46c634236fba",
        "colab": {
          "base_uri": "https://localhost:8080/",
          "height": 34
        }
      },
      "source": [
        "print(mi_lista)"
      ],
      "execution_count": 0,
      "outputs": [
        {
          "output_type": "stream",
          "text": [
            "['a']\n"
          ],
          "name": "stdout"
        }
      ]
    },
    {
      "cell_type": "code",
      "metadata": {
        "id": "bcFRvKzj7Q1e",
        "colab_type": "code",
        "colab": {}
      },
      "source": [
        "mi_lista=[\"a\",\"b\",\"c\",\"d\"]"
      ],
      "execution_count": 0,
      "outputs": []
    },
    {
      "cell_type": "markdown",
      "metadata": {
        "id": "FfAr_Uha7XqG",
        "colab_type": "text"
      },
      "source": [
        "Traer un dato de la lista"
      ]
    },
    {
      "cell_type": "code",
      "metadata": {
        "id": "td6vAIRh7ac4",
        "colab_type": "code",
        "outputId": "0cd9c93d-fe6a-4da5-ee4e-73d3869face3",
        "colab": {
          "base_uri": "https://localhost:8080/",
          "height": 34
        }
      },
      "source": [
        "mi_lista[2:4]"
      ],
      "execution_count": 0,
      "outputs": [
        {
          "output_type": "execute_result",
          "data": {
            "text/plain": [
              "['c', 'd']"
            ]
          },
          "metadata": {
            "tags": []
          },
          "execution_count": 11
        }
      ]
    },
    {
      "cell_type": "code",
      "metadata": {
        "id": "pFPBSloq7hrF",
        "colab_type": "code",
        "outputId": "4707789a-924a-4b67-a116-082f002ab49d",
        "colab": {
          "base_uri": "https://localhost:8080/",
          "height": 34
        }
      },
      "source": [
        "mi_lista[1:]"
      ],
      "execution_count": 0,
      "outputs": [
        {
          "output_type": "execute_result",
          "data": {
            "text/plain": [
              "['b', 'c', 'd']"
            ]
          },
          "metadata": {
            "tags": []
          },
          "execution_count": 12
        }
      ]
    },
    {
      "cell_type": "markdown",
      "metadata": {
        "id": "3eARIaOz7pNW",
        "colab_type": "text"
      },
      "source": [
        "cambiar el valor de una posición"
      ]
    },
    {
      "cell_type": "code",
      "metadata": {
        "id": "GTOc5Qq07r_R",
        "colab_type": "code",
        "colab": {}
      },
      "source": [
        "mi_lista [0]='A'"
      ],
      "execution_count": 0,
      "outputs": []
    },
    {
      "cell_type": "code",
      "metadata": {
        "id": "zM0iwlS67-kJ",
        "colab_type": "code",
        "outputId": "162fde41-fe50-41b2-cdf3-9b8192e763ce",
        "colab": {
          "base_uri": "https://localhost:8080/",
          "height": 34
        }
      },
      "source": [
        "print(mi_lista)"
      ],
      "execution_count": 0,
      "outputs": [
        {
          "output_type": "stream",
          "text": [
            "['A', 'b', 'c', 'd']\n"
          ],
          "name": "stdout"
        }
      ]
    },
    {
      "cell_type": "markdown",
      "metadata": {
        "id": "rQm6OVMJ8FuJ",
        "colab_type": "text"
      },
      "source": [
        "listas anidadas"
      ]
    },
    {
      "cell_type": "code",
      "metadata": {
        "id": "Tqy-J_al8IAW",
        "colab_type": "code",
        "colab": {}
      },
      "source": [
        "anidada=[1,2,[3,4],5]"
      ],
      "execution_count": 0,
      "outputs": []
    },
    {
      "cell_type": "code",
      "metadata": {
        "id": "_rHMLFCl8Ole",
        "colab_type": "code",
        "outputId": "a44fff86-c206-4991-ce7e-264df027eb04",
        "colab": {
          "base_uri": "https://localhost:8080/",
          "height": 34
        }
      },
      "source": [
        "print(anidada[2])"
      ],
      "execution_count": 0,
      "outputs": [
        {
          "output_type": "stream",
          "text": [
            "[3, 4]\n"
          ],
          "name": "stdout"
        }
      ]
    },
    {
      "cell_type": "code",
      "metadata": {
        "id": "wQ1zCBrb8Uxx",
        "colab_type": "code",
        "outputId": "19e0e7c5-7f51-4b0f-e8a6-db0e737312b6",
        "colab": {
          "base_uri": "https://localhost:8080/",
          "height": 34
        }
      },
      "source": [
        "anidada[2][-1]"
      ],
      "execution_count": 0,
      "outputs": [
        {
          "output_type": "execute_result",
          "data": {
            "text/plain": [
              "4"
            ]
          },
          "metadata": {
            "tags": []
          },
          "execution_count": 17
        }
      ]
    },
    {
      "cell_type": "code",
      "metadata": {
        "id": "4w4DSAg58gAq",
        "colab_type": "code",
        "colab": {}
      },
      "source": [
        "anidada_2=[1,2,3,[4,5,[\"objetivo\",\"Fea\"]]]"
      ],
      "execution_count": 0,
      "outputs": []
    },
    {
      "cell_type": "code",
      "metadata": {
        "id": "iKjgxWpp8nWu",
        "colab_type": "code",
        "outputId": "357c1f5d-c695-42d6-9af1-12745191c90e",
        "colab": {
          "base_uri": "https://localhost:8080/",
          "height": 34
        }
      },
      "source": [
        "anidada_2[3]"
      ],
      "execution_count": 0,
      "outputs": [
        {
          "output_type": "execute_result",
          "data": {
            "text/plain": [
              "[4, 5, ['objetivo', 'Fea']]"
            ]
          },
          "metadata": {
            "tags": []
          },
          "execution_count": 19
        }
      ]
    },
    {
      "cell_type": "code",
      "metadata": {
        "id": "arortl-78vZG",
        "colab_type": "code",
        "outputId": "34c63ac8-2bf5-44c6-cac3-540564f8f3ce",
        "colab": {
          "base_uri": "https://localhost:8080/",
          "height": 34
        }
      },
      "source": [
        "anidada_2[3][2][0]"
      ],
      "execution_count": 0,
      "outputs": [
        {
          "output_type": "execute_result",
          "data": {
            "text/plain": [
              "'objetivo'"
            ]
          },
          "metadata": {
            "tags": []
          },
          "execution_count": 20
        }
      ]
    },
    {
      "cell_type": "code",
      "metadata": {
        "id": "1aDY1JZM87a0",
        "colab_type": "code",
        "outputId": "8ea3b7e4-4e1f-4f73-da11-d31448866b5d",
        "colab": {
          "base_uri": "https://localhost:8080/",
          "height": 34
        }
      },
      "source": [
        "anidada_2[3][2][0][0:3]"
      ],
      "execution_count": 0,
      "outputs": [
        {
          "output_type": "execute_result",
          "data": {
            "text/plain": [
              "'obj'"
            ]
          },
          "metadata": {
            "tags": []
          },
          "execution_count": 21
        }
      ]
    },
    {
      "cell_type": "markdown",
      "metadata": {
        "id": "tYx0lv6acfQk",
        "colab_type": "text"
      },
      "source": [
        "**Manejo de datos**\n",
        "Con el manejo de diccionarios vamos a manejar los datos de modo Clave, Valor"
      ]
    },
    {
      "cell_type": "code",
      "metadata": {
        "id": "ENxmEHvkc_Qc",
        "colab_type": "code",
        "colab": {}
      },
      "source": [
        "diccionario={'key1':'valor','key2':100}"
      ],
      "execution_count": 0,
      "outputs": []
    },
    {
      "cell_type": "code",
      "metadata": {
        "id": "koGThh4CduMh",
        "colab_type": "code",
        "outputId": "be243f60-9a43-47d1-f48b-666122d49b39",
        "colab": {
          "base_uri": "https://localhost:8080/",
          "height": 163
        }
      },
      "source": [
        "diccionario[0] # en diccionarios no se accede por posición, si por key"
      ],
      "execution_count": 0,
      "outputs": [
        {
          "output_type": "error",
          "ename": "KeyError",
          "evalue": "ignored",
          "traceback": [
            "\u001b[0;31m---------------------------------------------------------------------------\u001b[0m",
            "\u001b[0;31mKeyError\u001b[0m                                  Traceback (most recent call last)",
            "\u001b[0;32m<ipython-input-25-5fe300d4ef67>\u001b[0m in \u001b[0;36m<module>\u001b[0;34m()\u001b[0m\n\u001b[0;32m----> 1\u001b[0;31m \u001b[0mdiccionario\u001b[0m\u001b[0;34m[\u001b[0m\u001b[0;36m0\u001b[0m\u001b[0;34m]\u001b[0m \u001b[0;31m# en diccionarios no se accede por posición, si por key\u001b[0m\u001b[0;34m\u001b[0m\u001b[0;34m\u001b[0m\u001b[0m\n\u001b[0m",
            "\u001b[0;31mKeyError\u001b[0m: 0"
          ]
        }
      ]
    },
    {
      "cell_type": "code",
      "metadata": {
        "id": "G1NIkC86eH_T",
        "colab_type": "code",
        "outputId": "59c99876-dd75-4a1c-bb4c-1d88fee4ee99",
        "colab": {
          "base_uri": "https://localhost:8080/",
          "height": 34
        }
      },
      "source": [
        "diccionario['key1'] # No usar llaves que no sean texto"
      ],
      "execution_count": 0,
      "outputs": [
        {
          "output_type": "execute_result",
          "data": {
            "text/plain": [
              "'valor'"
            ]
          },
          "metadata": {
            "tags": []
          },
          "execution_count": 24
        }
      ]
    },
    {
      "cell_type": "code",
      "metadata": {
        "id": "gS3EiJMGe94U",
        "colab_type": "code",
        "outputId": "b172467d-bf97-4706-f0a9-f736f4a39392",
        "colab": {
          "base_uri": "https://localhost:8080/",
          "height": 34
        }
      },
      "source": [
        "diccionario"
      ],
      "execution_count": 0,
      "outputs": [
        {
          "output_type": "execute_result",
          "data": {
            "text/plain": [
              "{'key1': 'valor', 'key2': 100}"
            ]
          },
          "metadata": {
            "tags": []
          },
          "execution_count": 26
        }
      ]
    },
    {
      "cell_type": "code",
      "metadata": {
        "id": "LJOKJ6NHfRUq",
        "colab_type": "code",
        "colab": {}
      },
      "source": [
        "d2={'k1':[1,2,3,4,5],'k2':'clase python'}"
      ],
      "execution_count": 0,
      "outputs": []
    },
    {
      "cell_type": "code",
      "metadata": {
        "id": "uFKASDJ4fl0f",
        "colab_type": "code",
        "outputId": "3d7e8eb6-6d9c-46ac-e269-e28165b4ff8d",
        "colab": {
          "base_uri": "https://localhost:8080/",
          "height": 34
        }
      },
      "source": [
        "d2['k1']"
      ],
      "execution_count": 0,
      "outputs": [
        {
          "output_type": "execute_result",
          "data": {
            "text/plain": [
              "[1, 2, 3, 4, 5]"
            ]
          },
          "metadata": {
            "tags": []
          },
          "execution_count": 28
        }
      ]
    },
    {
      "cell_type": "code",
      "metadata": {
        "id": "d4YvkpEcfs3H",
        "colab_type": "code",
        "colab": {}
      },
      "source": [
        "lista = d2['k1']"
      ],
      "execution_count": 0,
      "outputs": []
    },
    {
      "cell_type": "code",
      "metadata": {
        "id": "Xu3PxThlf79_",
        "colab_type": "code",
        "outputId": "125852e1-2ae9-4d58-f728-345d87666272",
        "colab": {
          "base_uri": "https://localhost:8080/",
          "height": 34
        }
      },
      "source": [
        "print(lista)"
      ],
      "execution_count": 0,
      "outputs": [
        {
          "output_type": "stream",
          "text": [
            "[1, 2, 3, 4, 5]\n"
          ],
          "name": "stdout"
        }
      ]
    },
    {
      "cell_type": "code",
      "metadata": {
        "id": "Df0MLA8mf_nM",
        "colab_type": "code",
        "outputId": "db144095-87ac-43a7-a1c8-9d877d757dda",
        "colab": {
          "base_uri": "https://localhost:8080/",
          "height": 34
        }
      },
      "source": [
        "lista[3]"
      ],
      "execution_count": 0,
      "outputs": [
        {
          "output_type": "execute_result",
          "data": {
            "text/plain": [
              "4"
            ]
          },
          "metadata": {
            "tags": []
          },
          "execution_count": 32
        }
      ]
    },
    {
      "cell_type": "code",
      "metadata": {
        "id": "CXN0Wi4vgF-_",
        "colab_type": "code",
        "outputId": "50e55a2a-a81c-4294-a591-86e225ba6458",
        "colab": {
          "base_uri": "https://localhost:8080/",
          "height": 34
        }
      },
      "source": [
        "d2['k1'][3]"
      ],
      "execution_count": 0,
      "outputs": [
        {
          "output_type": "execute_result",
          "data": {
            "text/plain": [
              "4"
            ]
          },
          "metadata": {
            "tags": []
          },
          "execution_count": 33
        }
      ]
    },
    {
      "cell_type": "markdown",
      "metadata": {
        "id": "YWIZdXkYguuO",
        "colab_type": "text"
      },
      "source": [
        "Diccionario de diccionarios"
      ]
    },
    {
      "cell_type": "code",
      "metadata": {
        "id": "FBNR-Q12gxhF",
        "colab_type": "code",
        "colab": {}
      },
      "source": [
        "d3={'k1':{'ka1':[1,2,4,10]}}"
      ],
      "execution_count": 0,
      "outputs": []
    },
    {
      "cell_type": "code",
      "metadata": {
        "id": "lCKfeIvShOgh",
        "colab_type": "code",
        "outputId": "c580e84a-cf96-479d-baeb-00d331165129",
        "colab": {
          "base_uri": "https://localhost:8080/",
          "height": 34
        }
      },
      "source": [
        "d3['k1']"
      ],
      "execution_count": 0,
      "outputs": [
        {
          "output_type": "execute_result",
          "data": {
            "text/plain": [
              "{'ka1': [1, 2, 4, 10]}"
            ]
          },
          "metadata": {
            "tags": []
          },
          "execution_count": 35
        }
      ]
    },
    {
      "cell_type": "code",
      "metadata": {
        "id": "Aw1Y0jP-haH6",
        "colab_type": "code",
        "outputId": "941afefd-f15a-41e6-f416-50f495f03e9c",
        "colab": {
          "base_uri": "https://localhost:8080/",
          "height": 34
        }
      },
      "source": [
        "d3['k1']['ka1']"
      ],
      "execution_count": 0,
      "outputs": [
        {
          "output_type": "execute_result",
          "data": {
            "text/plain": [
              "[1, 2, 4, 10]"
            ]
          },
          "metadata": {
            "tags": []
          },
          "execution_count": 36
        }
      ]
    },
    {
      "cell_type": "code",
      "metadata": {
        "id": "Po_TNHL3hjZF",
        "colab_type": "code",
        "outputId": "b43b99cf-af52-4182-f4fd-013b09f07a4d",
        "colab": {
          "base_uri": "https://localhost:8080/",
          "height": 34
        }
      },
      "source": [
        "d3['k1']['ka1'][-1]"
      ],
      "execution_count": 0,
      "outputs": [
        {
          "output_type": "execute_result",
          "data": {
            "text/plain": [
              "10"
            ]
          },
          "metadata": {
            "tags": []
          },
          "execution_count": 38
        }
      ]
    },
    {
      "cell_type": "markdown",
      "metadata": {
        "id": "oiGC3c31h46V",
        "colab_type": "text"
      },
      "source": [
        "Manejo de tuplas"
      ]
    },
    {
      "cell_type": "code",
      "metadata": {
        "id": "cDyLsjtFiODG",
        "colab_type": "code",
        "colab": {}
      },
      "source": [
        "lista=[1,2,3]"
      ],
      "execution_count": 0,
      "outputs": []
    },
    {
      "cell_type": "code",
      "metadata": {
        "id": "1ebj11UViU_G",
        "colab_type": "code",
        "outputId": "a353cc56-5f32-4179-84f4-9567f90c3f3c",
        "colab": {
          "base_uri": "https://localhost:8080/",
          "height": 34
        }
      },
      "source": [
        "print(lista)"
      ],
      "execution_count": 0,
      "outputs": [
        {
          "output_type": "stream",
          "text": [
            "[1, 2, 3]\n"
          ],
          "name": "stdout"
        }
      ]
    },
    {
      "cell_type": "code",
      "metadata": {
        "id": "FVqTNyIPifB9",
        "colab_type": "code",
        "colab": {}
      },
      "source": [
        "lista[1]='nuevo valor'"
      ],
      "execution_count": 0,
      "outputs": []
    },
    {
      "cell_type": "code",
      "metadata": {
        "id": "fNd-WR-rilqr",
        "colab_type": "code",
        "outputId": "988038fb-ee45-4962-bad7-6c1beac19310",
        "colab": {
          "base_uri": "https://localhost:8080/",
          "height": 34
        }
      },
      "source": [
        "print(lista)"
      ],
      "execution_count": 0,
      "outputs": [
        {
          "output_type": "stream",
          "text": [
            "[1, 'nuevo valor', 3]\n"
          ],
          "name": "stdout"
        }
      ]
    },
    {
      "cell_type": "code",
      "metadata": {
        "id": "FN9mWR7aio7f",
        "colab_type": "code",
        "colab": {}
      },
      "source": [
        "tupla=(1,2,3,4)"
      ],
      "execution_count": 0,
      "outputs": []
    },
    {
      "cell_type": "code",
      "metadata": {
        "id": "hq_nsqTjiupp",
        "colab_type": "code",
        "outputId": "b4d638bf-1978-4f75-d2dc-5baba1cd7d79",
        "colab": {
          "base_uri": "https://localhost:8080/",
          "height": 34
        }
      },
      "source": [
        "print(tupla)"
      ],
      "execution_count": 0,
      "outputs": [
        {
          "output_type": "stream",
          "text": [
            "(1, 2, 3, 4)\n"
          ],
          "name": "stdout"
        }
      ]
    },
    {
      "cell_type": "code",
      "metadata": {
        "id": "o3Oq2v5Ai1HJ",
        "colab_type": "code",
        "outputId": "e401ca91-e6eb-4ca4-c2df-9904d7a0767c",
        "colab": {
          "base_uri": "https://localhost:8080/",
          "height": 163
        }
      },
      "source": [
        "tupla[0]='valor' # las tuplas son inmutables"
      ],
      "execution_count": 0,
      "outputs": [
        {
          "output_type": "error",
          "ename": "TypeError",
          "evalue": "ignored",
          "traceback": [
            "\u001b[0;31m---------------------------------------------------------------------------\u001b[0m",
            "\u001b[0;31mTypeError\u001b[0m                                 Traceback (most recent call last)",
            "\u001b[0;32m<ipython-input-45-06a9c90b034f>\u001b[0m in \u001b[0;36m<module>\u001b[0;34m()\u001b[0m\n\u001b[0;32m----> 1\u001b[0;31m \u001b[0mtupla\u001b[0m\u001b[0;34m[\u001b[0m\u001b[0;36m0\u001b[0m\u001b[0;34m]\u001b[0m\u001b[0;34m=\u001b[0m\u001b[0;34m'valor'\u001b[0m\u001b[0;34m\u001b[0m\u001b[0;34m\u001b[0m\u001b[0m\n\u001b[0m",
            "\u001b[0;31mTypeError\u001b[0m: 'tuple' object does not support item assignment"
          ]
        }
      ]
    },
    {
      "cell_type": "markdown",
      "metadata": {
        "id": "p0CDRgNejbk_",
        "colab_type": "text"
      },
      "source": [
        "**Conjuntos** (Sets)\n",
        "Es una estructura de datos que permite almacenar colecciones *únicas*"
      ]
    },
    {
      "cell_type": "code",
      "metadata": {
        "id": "Eyf-rXrJjIIC",
        "colab_type": "code",
        "outputId": "934d2d50-c0c6-433b-9b58-f403f9fd1dea",
        "colab": {
          "base_uri": "https://localhost:8080/",
          "height": 34
        }
      },
      "source": [
        "{1,2,3}"
      ],
      "execution_count": 0,
      "outputs": [
        {
          "output_type": "execute_result",
          "data": {
            "text/plain": [
              "{1, 2, 3}"
            ]
          },
          "metadata": {
            "tags": []
          },
          "execution_count": 46
        }
      ]
    },
    {
      "cell_type": "code",
      "metadata": {
        "id": "gDHDdZXPj_57",
        "colab_type": "code",
        "outputId": "91dc99dc-27fc-4490-b150-d583b00f3bee",
        "colab": {
          "base_uri": "https://localhost:8080/",
          "height": 34
        }
      },
      "source": [
        "{1,2,3,3,2,1,2,3,2}"
      ],
      "execution_count": 0,
      "outputs": [
        {
          "output_type": "execute_result",
          "data": {
            "text/plain": [
              "{1, 2, 3}"
            ]
          },
          "metadata": {
            "tags": []
          },
          "execution_count": 47
        }
      ]
    },
    {
      "cell_type": "code",
      "metadata": {
        "id": "1-Yr1MyJkRsc",
        "colab_type": "code",
        "outputId": "19eae101-f46d-4020-d6de-c8e498d0414f",
        "colab": {
          "base_uri": "https://localhost:8080/",
          "height": 34
        }
      },
      "source": [
        "set([1,2,3,1,2,5,7,8,9,])"
      ],
      "execution_count": 0,
      "outputs": [
        {
          "output_type": "execute_result",
          "data": {
            "text/plain": [
              "{1, 2, 3, 5, 7, 8, 9}"
            ]
          },
          "metadata": {
            "tags": []
          },
          "execution_count": 48
        }
      ]
    },
    {
      "cell_type": "code",
      "metadata": {
        "id": "YFCr3ow0koG1",
        "colab_type": "code",
        "colab": {}
      },
      "source": [
        "conjunto={1,2,3}"
      ],
      "execution_count": 0,
      "outputs": []
    },
    {
      "cell_type": "code",
      "metadata": {
        "id": "Hz2T0Rh4lDQt",
        "colab_type": "code",
        "colab": {}
      },
      "source": [
        "conjunto.add(4)"
      ],
      "execution_count": 0,
      "outputs": []
    },
    {
      "cell_type": "code",
      "metadata": {
        "id": "3NtyDYzqlLH9",
        "colab_type": "code",
        "outputId": "175e1867-6b6c-4aee-97f4-badd1209f057",
        "colab": {
          "base_uri": "https://localhost:8080/",
          "height": 34
        }
      },
      "source": [
        "print(conjunto)"
      ],
      "execution_count": 0,
      "outputs": [
        {
          "output_type": "stream",
          "text": [
            "{1, 2, 3, 4}\n"
          ],
          "name": "stdout"
        }
      ]
    },
    {
      "cell_type": "markdown",
      "metadata": {
        "id": "eIjsO5Zjlj9p",
        "colab_type": "text"
      },
      "source": [
        "Operadores\n",
        "\n",
        "Son para comparar expresione. Los operadores retornan una variable tipo booleana de acuerdo al resultado de la comparación"
      ]
    },
    {
      "cell_type": "code",
      "metadata": {
        "id": "fYzbyAOdlfVU",
        "colab_type": "code",
        "outputId": "81b48c29-5e4c-448c-be90-3329fb880300",
        "colab": {
          "base_uri": "https://localhost:8080/",
          "height": 34
        }
      },
      "source": [
        "1>2"
      ],
      "execution_count": 0,
      "outputs": [
        {
          "output_type": "execute_result",
          "data": {
            "text/plain": [
              "False"
            ]
          },
          "metadata": {
            "tags": []
          },
          "execution_count": 52
        }
      ]
    },
    {
      "cell_type": "code",
      "metadata": {
        "id": "m4pu15g_l7Xm",
        "colab_type": "code",
        "outputId": "32859769-2607-4934-88f7-83d946e89b2f",
        "colab": {
          "base_uri": "https://localhost:8080/",
          "height": 34
        }
      },
      "source": [
        "1<2"
      ],
      "execution_count": 0,
      "outputs": [
        {
          "output_type": "execute_result",
          "data": {
            "text/plain": [
              "True"
            ]
          },
          "metadata": {
            "tags": []
          },
          "execution_count": 53
        }
      ]
    },
    {
      "cell_type": "code",
      "metadata": {
        "id": "B-ADpqQ3l-2Z",
        "colab_type": "code",
        "outputId": "c9689071-b9a1-4945-c9b1-868db7b2a941",
        "colab": {
          "base_uri": "https://localhost:8080/",
          "height": 34
        }
      },
      "source": [
        "1==2"
      ],
      "execution_count": 0,
      "outputs": [
        {
          "output_type": "execute_result",
          "data": {
            "text/plain": [
              "False"
            ]
          },
          "metadata": {
            "tags": []
          },
          "execution_count": 54
        }
      ]
    },
    {
      "cell_type": "code",
      "metadata": {
        "id": "8LAFJQ6kmEbE",
        "colab_type": "code",
        "outputId": "4c1a2fd7-84e3-42a4-c6d3-952fb084c25f",
        "colab": {
          "base_uri": "https://localhost:8080/",
          "height": 34
        }
      },
      "source": [
        "1<=3"
      ],
      "execution_count": 0,
      "outputs": [
        {
          "output_type": "execute_result",
          "data": {
            "text/plain": [
              "True"
            ]
          },
          "metadata": {
            "tags": []
          },
          "execution_count": 55
        }
      ]
    },
    {
      "cell_type": "code",
      "metadata": {
        "id": "9Bpb90GYmHfD",
        "colab_type": "code",
        "outputId": "0e73ac87-fb48-4ac0-ac4d-a9da4ac52d7d",
        "colab": {
          "base_uri": "https://localhost:8080/",
          "height": 34
        }
      },
      "source": [
        "1>=3"
      ],
      "execution_count": 0,
      "outputs": [
        {
          "output_type": "execute_result",
          "data": {
            "text/plain": [
              "False"
            ]
          },
          "metadata": {
            "tags": []
          },
          "execution_count": 56
        }
      ]
    },
    {
      "cell_type": "code",
      "metadata": {
        "id": "WB_Ozjjomb9v",
        "colab_type": "code",
        "outputId": "f88b9aac-5bfe-441c-d881-18ac1621a67c",
        "colab": {
          "base_uri": "https://localhost:8080/",
          "height": 129
        }
      },
      "source": [
        "1=1"
      ],
      "execution_count": 0,
      "outputs": [
        {
          "output_type": "error",
          "ename": "SyntaxError",
          "evalue": "ignored",
          "traceback": [
            "\u001b[0;36m  File \u001b[0;32m\"<ipython-input-57-c59fb5224dc0>\"\u001b[0;36m, line \u001b[0;32m1\u001b[0m\n\u001b[0;31m    1=1\u001b[0m\n\u001b[0m       ^\u001b[0m\n\u001b[0;31mSyntaxError\u001b[0m\u001b[0;31m:\u001b[0m can't assign to literal\n"
          ]
        }
      ]
    },
    {
      "cell_type": "code",
      "metadata": {
        "id": "fT6rnSewmj8e",
        "colab_type": "code",
        "outputId": "7eb6740b-94b0-4bfc-ccaa-c779e4c66b89",
        "colab": {
          "base_uri": "https://localhost:8080/",
          "height": 34
        }
      },
      "source": [
        "1!=10"
      ],
      "execution_count": 0,
      "outputs": [
        {
          "output_type": "execute_result",
          "data": {
            "text/plain": [
              "True"
            ]
          },
          "metadata": {
            "tags": []
          },
          "execution_count": 58
        }
      ]
    },
    {
      "cell_type": "code",
      "metadata": {
        "id": "70Plxqpvmp1K",
        "colab_type": "code",
        "outputId": "cf8ab5d0-1c25-4ad6-c45d-5e63f8722aae",
        "colab": {
          "base_uri": "https://localhost:8080/",
          "height": 34
        }
      },
      "source": [
        "10!=10"
      ],
      "execution_count": 0,
      "outputs": [
        {
          "output_type": "execute_result",
          "data": {
            "text/plain": [
              "False"
            ]
          },
          "metadata": {
            "tags": []
          },
          "execution_count": 59
        }
      ]
    },
    {
      "cell_type": "code",
      "metadata": {
        "id": "sk-kY4yhmv2c",
        "colab_type": "code",
        "outputId": "de85b924-b5b5-43f4-b0ba-3b6746db22d2",
        "colab": {
          "base_uri": "https://localhost:8080/",
          "height": 34
        }
      },
      "source": [
        "'hola'=='chao'"
      ],
      "execution_count": 0,
      "outputs": [
        {
          "output_type": "execute_result",
          "data": {
            "text/plain": [
              "False"
            ]
          },
          "metadata": {
            "tags": []
          },
          "execution_count": 60
        }
      ]
    },
    {
      "cell_type": "code",
      "metadata": {
        "id": "JLmMN7Fkm-e7",
        "colab_type": "code",
        "outputId": "191163a9-b143-44f3-9afc-85e5c086e637",
        "colab": {
          "base_uri": "https://localhost:8080/",
          "height": 34
        }
      },
      "source": [
        "[1,2,100]==[1,2,100]"
      ],
      "execution_count": 0,
      "outputs": [
        {
          "output_type": "execute_result",
          "data": {
            "text/plain": [
              "True"
            ]
          },
          "metadata": {
            "tags": []
          },
          "execution_count": 61
        }
      ]
    },
    {
      "cell_type": "code",
      "metadata": {
        "id": "36zgmihgnOb5",
        "colab_type": "code",
        "colab": {}
      },
      "source": [
        ""
      ],
      "execution_count": 0,
      "outputs": []
    },
    {
      "cell_type": "code",
      "metadata": {
        "id": "KPUwYkWnn1Ya",
        "colab_type": "code",
        "outputId": "8bb44a98-d5ae-48a6-95da-e1b8dc2dded7",
        "colab": {
          "base_uri": "https://localhost:8080/",
          "height": 34
        }
      },
      "source": [
        "{'k1':1,'k2':2,'k3':[1,2,3]}=={'k1':1,'k2':2,'k3':[1,2,3]}"
      ],
      "execution_count": 0,
      "outputs": [
        {
          "output_type": "execute_result",
          "data": {
            "text/plain": [
              "True"
            ]
          },
          "metadata": {
            "tags": []
          },
          "execution_count": 62
        }
      ]
    },
    {
      "cell_type": "code",
      "metadata": {
        "id": "xlpf4_aMoZA1",
        "colab_type": "code",
        "outputId": "977c4422-c759-4a59-a362-044bfbcb9d52",
        "colab": {
          "base_uri": "https://localhost:8080/",
          "height": 34
        }
      },
      "source": [
        "{'k1':1,'k2':2,'k3':[1,2,3]}=={'k1':2,'k2':2,'k3':[1,2,3]}"
      ],
      "execution_count": 0,
      "outputs": [
        {
          "output_type": "execute_result",
          "data": {
            "text/plain": [
              "False"
            ]
          },
          "metadata": {
            "tags": []
          },
          "execution_count": 63
        }
      ]
    },
    {
      "cell_type": "markdown",
      "metadata": {
        "id": "eU5_OvuMZiAI",
        "colab_type": "text"
      },
      "source": [
        "Operadores logicos"
      ]
    },
    {
      "cell_type": "code",
      "metadata": {
        "id": "tNqkJKWBZj_N",
        "colab_type": "code",
        "outputId": "1a1389e6-4ebd-42ed-a6d4-f372b0d4658f",
        "colab": {
          "base_uri": "https://localhost:8080/",
          "height": 34
        }
      },
      "source": [
        "(1==1) and (2>1) or (1<2)"
      ],
      "execution_count": 0,
      "outputs": [
        {
          "output_type": "execute_result",
          "data": {
            "text/plain": [
              "True"
            ]
          },
          "metadata": {
            "tags": []
          },
          "execution_count": 1
        }
      ]
    },
    {
      "cell_type": "markdown",
      "metadata": {
        "id": "wHkqmoYCZ0Oe",
        "colab_type": "text"
      },
      "source": [
        "Condicionales\n",
        "\n",
        "if, elif, else"
      ]
    },
    {
      "cell_type": "code",
      "metadata": {
        "id": "SP4nWKYaZ1yx",
        "colab_type": "code",
        "outputId": "3a92da28-cadf-434a-fc52-bd286b4fdd8e",
        "colab": {
          "base_uri": "https://localhost:8080/",
          "height": 34
        }
      },
      "source": [
        "if 1<2:\n",
        "  print('si') #La identiación es obligatoría"
      ],
      "execution_count": 0,
      "outputs": [
        {
          "output_type": "stream",
          "text": [
            "si\n"
          ],
          "name": "stdout"
        }
      ]
    },
    {
      "cell_type": "code",
      "metadata": {
        "id": "ts3tN5clabWh",
        "colab_type": "code",
        "outputId": "8ca3bc51-f679-4e7c-fa0b-f3df75647a93",
        "colab": {
          "base_uri": "https://localhost:8080/",
          "height": 34
        }
      },
      "source": [
        "if 10<2:\n",
        "  print('primero')\n",
        "  print('si')\n",
        "print('else')"
      ],
      "execution_count": 0,
      "outputs": [
        {
          "output_type": "stream",
          "text": [
            "else\n"
          ],
          "name": "stdout"
        }
      ]
    },
    {
      "cell_type": "code",
      "metadata": {
        "id": "lpLoFAL2a-HN",
        "colab_type": "code",
        "outputId": "20375938-6a7a-4c52-ec56-587c0c9c16a8",
        "colab": {
          "base_uri": "https://localhost:8080/",
          "height": 34
        }
      },
      "source": [
        "if(1>2):\n",
        "  print('si')\n",
        "else:\n",
        "  print('no')"
      ],
      "execution_count": 0,
      "outputs": [
        {
          "output_type": "stream",
          "text": [
            "no\n"
          ],
          "name": "stdout"
        }
      ]
    },
    {
      "cell_type": "code",
      "metadata": {
        "id": "PFRE5eiWbSWa",
        "colab_type": "code",
        "outputId": "8842e420-a27b-48fc-9967-8c50bfe7baec",
        "colab": {
          "base_uri": "https://localhost:8080/",
          "height": 34
        }
      },
      "source": [
        "if 1==2:\n",
        "  print('1')\n",
        "elif 3==3:\n",
        "  print('2')\n",
        "else:\n",
        "  print('3')"
      ],
      "execution_count": 0,
      "outputs": [
        {
          "output_type": "stream",
          "text": [
            "2\n"
          ],
          "name": "stdout"
        }
      ]
    },
    {
      "cell_type": "markdown",
      "metadata": {
        "id": "4zGidmcbcEvr",
        "colab_type": "text"
      },
      "source": [
        "Ciclo for"
      ]
    },
    {
      "cell_type": "code",
      "metadata": {
        "id": "ff2gfZrXcI6C",
        "colab_type": "code",
        "colab": {}
      },
      "source": [
        "seq =[1,2,3,4,5,6,7,8]"
      ],
      "execution_count": 0,
      "outputs": []
    },
    {
      "cell_type": "code",
      "metadata": {
        "id": "wzcLtLqScbyv",
        "colab_type": "code",
        "outputId": "4cec7045-3d20-40e9-d784-bebc35e33e10",
        "colab": {
          "base_uri": "https://localhost:8080/",
          "height": 153
        }
      },
      "source": [
        "for item in seq:\n",
        "  print('ok')"
      ],
      "execution_count": 0,
      "outputs": [
        {
          "output_type": "stream",
          "text": [
            "ok\n",
            "ok\n",
            "ok\n",
            "ok\n",
            "ok\n",
            "ok\n",
            "ok\n",
            "ok\n"
          ],
          "name": "stdout"
        }
      ]
    },
    {
      "cell_type": "code",
      "metadata": {
        "id": "m9oogZBqdB6u",
        "colab_type": "code",
        "outputId": "87730180-7d40-4697-ce37-a5824abd706c",
        "colab": {
          "base_uri": "https://localhost:8080/",
          "height": 153
        }
      },
      "source": [
        "for item in seq:\n",
        "  print('ok',item)"
      ],
      "execution_count": 0,
      "outputs": [
        {
          "output_type": "stream",
          "text": [
            "ok 1\n",
            "ok 2\n",
            "ok 3\n",
            "ok 4\n",
            "ok 5\n",
            "ok 6\n",
            "ok 7\n",
            "ok 8\n"
          ],
          "name": "stdout"
        }
      ]
    },
    {
      "cell_type": "code",
      "metadata": {
        "id": "usYsex-idTzM",
        "colab_type": "code",
        "colab": {}
      },
      "source": [
        "seq=[1,2,3,4,5]"
      ],
      "execution_count": 0,
      "outputs": []
    },
    {
      "cell_type": "code",
      "metadata": {
        "id": "TaerPUXBdYKF",
        "colab_type": "code",
        "outputId": "37c6636d-d6be-44f9-8248-82e4ff68b20f",
        "colab": {
          "base_uri": "https://localhost:8080/",
          "height": 34
        }
      },
      "source": [
        "lista=[]\n",
        "for num in seq:\n",
        "  lista.append (num**2)\n",
        "print(lista)"
      ],
      "execution_count": 0,
      "outputs": [
        {
          "output_type": "stream",
          "text": [
            "[1, 4, 9, 16, 25]\n"
          ],
          "name": "stdout"
        }
      ]
    },
    {
      "cell_type": "markdown",
      "metadata": {
        "id": "y3241hkEeJ5m",
        "colab_type": "text"
      },
      "source": [
        "While"
      ]
    },
    {
      "cell_type": "code",
      "metadata": {
        "id": "fThNmuVre5LL",
        "colab_type": "code",
        "outputId": "9c178af2-986e-4906-f21a-fa0bb6c6dd89",
        "colab": {
          "base_uri": "https://localhost:8080/",
          "height": 85
        }
      },
      "source": [
        "i=1\n",
        "while i<5:\n",
        "  print('i es igual a:{}'.format(i))\n",
        "  i=i+1"
      ],
      "execution_count": 0,
      "outputs": [
        {
          "output_type": "stream",
          "text": [
            "i es igual a:1\n",
            "i es igual a:2\n",
            "i es igual a:3\n",
            "i es igual a:4\n"
          ],
          "name": "stdout"
        }
      ]
    }
  ]
}