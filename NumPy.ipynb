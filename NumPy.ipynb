{
  "nbformat": 4,
  "nbformat_minor": 0,
  "metadata": {
    "colab": {
      "name": "NumPy.ipynb",
      "provenance": [],
      "collapsed_sections": [],
      "toc_visible": true,
      "include_colab_link": true
    },
    "kernelspec": {
      "name": "python3",
      "display_name": "Python 3"
    }
  },
  "cells": [
    {
      "cell_type": "markdown",
      "metadata": {
        "id": "view-in-github",
        "colab_type": "text"
      },
      "source": [
        "<a href=\"https://colab.research.google.com/github/leo88mc/pylearning/blob/master/NumPy.ipynb\" target=\"_parent\"><img src=\"https://colab.research.google.com/assets/colab-badge.svg\" alt=\"Open In Colab\"/></a>"
      ]
    },
    {
      "cell_type": "markdown",
      "metadata": {
        "id": "5-l7eo7pfF_w",
        "colab_type": "text"
      },
      "source": [
        "# NumPy: Libreria de algebra lineal para python\n",
        "\n",
        "Libreria fundamental para python"
      ]
    },
    {
      "cell_type": "markdown",
      "metadata": {
        "id": "K6cZbvHDf_nW",
        "colab_type": "text"
      },
      "source": [
        "Importar NumPy en GCP"
      ]
    },
    {
      "cell_type": "code",
      "metadata": {
        "id": "uS0FNkL4fr6L",
        "colab_type": "code",
        "colab": {}
      },
      "source": [
        "import numpy as np"
      ],
      "execution_count": 0,
      "outputs": []
    },
    {
      "cell_type": "markdown",
      "metadata": {
        "id": "tDTFBVVUgXej",
        "colab_type": "text"
      },
      "source": [
        "Arreglos NumPy\n",
        "**Tipo de arreglos**\n",
        "\n",
        "Vectores de 1 d\n",
        "Vectores de 2 d"
      ]
    },
    {
      "cell_type": "code",
      "metadata": {
        "id": "F-oGxCQegRX9",
        "colab_type": "code",
        "colab": {}
      },
      "source": [
        "lista=[1,2,3]"
      ],
      "execution_count": 0,
      "outputs": []
    },
    {
      "cell_type": "code",
      "metadata": {
        "id": "ozDHM3m1gyUI",
        "colab_type": "code",
        "outputId": "a78a54c4-c7f4-44c9-f531-bc0f69748fe1",
        "colab": {
          "base_uri": "https://localhost:8080/",
          "height": 34
        }
      },
      "source": [
        "np.array(lista)"
      ],
      "execution_count": 4,
      "outputs": [
        {
          "output_type": "execute_result",
          "data": {
            "text/plain": [
              "array([1, 2, 3])"
            ]
          },
          "metadata": {
            "tags": []
          },
          "execution_count": 4
        }
      ]
    },
    {
      "cell_type": "code",
      "metadata": {
        "id": "mJfNPj_Yg_q2",
        "colab_type": "code",
        "colab": {}
      },
      "source": [
        "arreglo=np.array(lista)"
      ],
      "execution_count": 0,
      "outputs": []
    },
    {
      "cell_type": "code",
      "metadata": {
        "id": "O_1xjfJ5hHSL",
        "colab_type": "code",
        "colab": {}
      },
      "source": [
        "matriz=[[1,2,3],[4,5,6],[7,8,9]]"
      ],
      "execution_count": 0,
      "outputs": []
    },
    {
      "cell_type": "code",
      "metadata": {
        "id": "p5sJ2l-WhZ-Q",
        "colab_type": "code",
        "outputId": "87c14cc8-fdfc-4d69-e84e-3548a430fb16",
        "colab": {
          "base_uri": "https://localhost:8080/",
          "height": 68
        }
      },
      "source": [
        "np.array(matriz)"
      ],
      "execution_count": 7,
      "outputs": [
        {
          "output_type": "execute_result",
          "data": {
            "text/plain": [
              "array([[1, 2, 3],\n",
              "       [4, 5, 6],\n",
              "       [7, 8, 9]])"
            ]
          },
          "metadata": {
            "tags": []
          },
          "execution_count": 7
        }
      ]
    },
    {
      "cell_type": "markdown",
      "metadata": {
        "id": "qgigrKk3hpAo",
        "colab_type": "text"
      },
      "source": [
        "Funciones para generar arreglos"
      ]
    },
    {
      "cell_type": "code",
      "metadata": {
        "id": "X8JVAxoThspp",
        "colab_type": "code",
        "outputId": "7f232edb-e405-4c68-d1e5-ac93e5769a8b",
        "colab": {
          "base_uri": "https://localhost:8080/",
          "height": 34
        }
      },
      "source": [
        "np.arange(0,10)"
      ],
      "execution_count": 8,
      "outputs": [
        {
          "output_type": "execute_result",
          "data": {
            "text/plain": [
              "array([0, 1, 2, 3, 4, 5, 6, 7, 8, 9])"
            ]
          },
          "metadata": {
            "tags": []
          },
          "execution_count": 8
        }
      ]
    },
    {
      "cell_type": "code",
      "metadata": {
        "id": "feVeo8v5iBnN",
        "colab_type": "code",
        "outputId": "31a7cce8-0e05-4839-ba50-5ecb61eefecc",
        "colab": {
          "base_uri": "https://localhost:8080/",
          "height": 34
        }
      },
      "source": [
        "list(range(0,10))"
      ],
      "execution_count": 9,
      "outputs": [
        {
          "output_type": "execute_result",
          "data": {
            "text/plain": [
              "[0, 1, 2, 3, 4, 5, 6, 7, 8, 9]"
            ]
          },
          "metadata": {
            "tags": []
          },
          "execution_count": 9
        }
      ]
    },
    {
      "cell_type": "code",
      "metadata": {
        "id": "jMzUs9p_iSyd",
        "colab_type": "code",
        "outputId": "8e609201-338d-4520-a447-e825e6acdea5",
        "colab": {
          "base_uri": "https://localhost:8080/",
          "height": 34
        }
      },
      "source": [
        "np.arange(0,11,2)"
      ],
      "execution_count": 10,
      "outputs": [
        {
          "output_type": "execute_result",
          "data": {
            "text/plain": [
              "array([ 0,  2,  4,  6,  8, 10])"
            ]
          },
          "metadata": {
            "tags": []
          },
          "execution_count": 10
        }
      ]
    },
    {
      "cell_type": "markdown",
      "metadata": {
        "id": "UY4geqT2inz-",
        "colab_type": "text"
      },
      "source": [
        "Función Zeros / Ones"
      ]
    },
    {
      "cell_type": "code",
      "metadata": {
        "id": "_xyV94UViuI6",
        "colab_type": "code",
        "outputId": "84de694a-3cdf-45c7-95b6-59ad07caa902",
        "colab": {
          "base_uri": "https://localhost:8080/",
          "height": 34
        }
      },
      "source": [
        "np.zeros(3)"
      ],
      "execution_count": 11,
      "outputs": [
        {
          "output_type": "execute_result",
          "data": {
            "text/plain": [
              "array([0., 0., 0.])"
            ]
          },
          "metadata": {
            "tags": []
          },
          "execution_count": 11
        }
      ]
    },
    {
      "cell_type": "code",
      "metadata": {
        "id": "s7XcX-eTikN7",
        "colab_type": "code",
        "outputId": "ceec4a49-8b6f-474a-b17f-8e02e40ee74c",
        "colab": {
          "base_uri": "https://localhost:8080/",
          "height": 102
        }
      },
      "source": [
        "np.zeros((5,5))"
      ],
      "execution_count": 12,
      "outputs": [
        {
          "output_type": "execute_result",
          "data": {
            "text/plain": [
              "array([[0., 0., 0., 0., 0.],\n",
              "       [0., 0., 0., 0., 0.],\n",
              "       [0., 0., 0., 0., 0.],\n",
              "       [0., 0., 0., 0., 0.],\n",
              "       [0., 0., 0., 0., 0.]])"
            ]
          },
          "metadata": {
            "tags": []
          },
          "execution_count": 12
        }
      ]
    },
    {
      "cell_type": "code",
      "metadata": {
        "id": "F6AKwa7VjH5e",
        "colab_type": "code",
        "outputId": "e6f2bbf0-affe-4c87-862b-0da2be287023",
        "colab": {
          "base_uri": "https://localhost:8080/",
          "height": 51
        }
      },
      "source": [
        "np.zeros((2,3))"
      ],
      "execution_count": 13,
      "outputs": [
        {
          "output_type": "execute_result",
          "data": {
            "text/plain": [
              "array([[0., 0., 0.],\n",
              "       [0., 0., 0.]])"
            ]
          },
          "metadata": {
            "tags": []
          },
          "execution_count": 13
        }
      ]
    },
    {
      "cell_type": "code",
      "metadata": {
        "id": "Q5p8KnbWjPO_",
        "colab_type": "code",
        "outputId": "22b4607b-d33c-4583-84de-7dc0c0e6c96e",
        "colab": {
          "base_uri": "https://localhost:8080/",
          "height": 51
        }
      },
      "source": [
        "np.zeros((2,3), dtype='int')"
      ],
      "execution_count": 14,
      "outputs": [
        {
          "output_type": "execute_result",
          "data": {
            "text/plain": [
              "array([[0, 0, 0],\n",
              "       [0, 0, 0]])"
            ]
          },
          "metadata": {
            "tags": []
          },
          "execution_count": 14
        }
      ]
    },
    {
      "cell_type": "code",
      "metadata": {
        "id": "iOWy8QPAjhc9",
        "colab_type": "code",
        "outputId": "ca5a1b74-2fac-4eaf-a1db-71052cae1110",
        "colab": {
          "base_uri": "https://localhost:8080/",
          "height": 34
        }
      },
      "source": [
        "np.ones(3)"
      ],
      "execution_count": 15,
      "outputs": [
        {
          "output_type": "execute_result",
          "data": {
            "text/plain": [
              "array([1., 1., 1.])"
            ]
          },
          "metadata": {
            "tags": []
          },
          "execution_count": 15
        }
      ]
    },
    {
      "cell_type": "code",
      "metadata": {
        "id": "Pum8GCC9jmtP",
        "colab_type": "code",
        "outputId": "5f444c49-6e6f-4f32-a58e-a39f5cb9fdf9",
        "colab": {
          "base_uri": "https://localhost:8080/",
          "height": 68
        }
      },
      "source": [
        "np.ones((3,5))"
      ],
      "execution_count": 16,
      "outputs": [
        {
          "output_type": "execute_result",
          "data": {
            "text/plain": [
              "array([[1., 1., 1., 1., 1.],\n",
              "       [1., 1., 1., 1., 1.],\n",
              "       [1., 1., 1., 1., 1.]])"
            ]
          },
          "metadata": {
            "tags": []
          },
          "execution_count": 16
        }
      ]
    },
    {
      "cell_type": "markdown",
      "metadata": {
        "id": "n0eM2myCjx_s",
        "colab_type": "text"
      },
      "source": [
        "Función Linspace: retorno de un número de parametros según se indique"
      ]
    },
    {
      "cell_type": "code",
      "metadata": {
        "id": "fQIcY5brj8Q6",
        "colab_type": "code",
        "outputId": "8758f296-2ef6-4eec-9f53-95a3f8e151a5",
        "colab": {
          "base_uri": "https://localhost:8080/",
          "height": 34
        }
      },
      "source": [
        "np.linspace(0,10,3) #la distancia entre los elementos es la misma"
      ],
      "execution_count": 17,
      "outputs": [
        {
          "output_type": "execute_result",
          "data": {
            "text/plain": [
              "array([ 0.,  5., 10.])"
            ]
          },
          "metadata": {
            "tags": []
          },
          "execution_count": 17
        }
      ]
    },
    {
      "cell_type": "code",
      "metadata": {
        "id": "ijZXmXNJjv3M",
        "colab_type": "code",
        "outputId": "9c88c9e6-4755-4f76-8a20-94b9d0d85ebd",
        "colab": {
          "base_uri": "https://localhost:8080/",
          "height": 357
        }
      },
      "source": [
        "np.linspace(0,10,100)"
      ],
      "execution_count": 18,
      "outputs": [
        {
          "output_type": "execute_result",
          "data": {
            "text/plain": [
              "array([ 0.        ,  0.1010101 ,  0.2020202 ,  0.3030303 ,  0.4040404 ,\n",
              "        0.50505051,  0.60606061,  0.70707071,  0.80808081,  0.90909091,\n",
              "        1.01010101,  1.11111111,  1.21212121,  1.31313131,  1.41414141,\n",
              "        1.51515152,  1.61616162,  1.71717172,  1.81818182,  1.91919192,\n",
              "        2.02020202,  2.12121212,  2.22222222,  2.32323232,  2.42424242,\n",
              "        2.52525253,  2.62626263,  2.72727273,  2.82828283,  2.92929293,\n",
              "        3.03030303,  3.13131313,  3.23232323,  3.33333333,  3.43434343,\n",
              "        3.53535354,  3.63636364,  3.73737374,  3.83838384,  3.93939394,\n",
              "        4.04040404,  4.14141414,  4.24242424,  4.34343434,  4.44444444,\n",
              "        4.54545455,  4.64646465,  4.74747475,  4.84848485,  4.94949495,\n",
              "        5.05050505,  5.15151515,  5.25252525,  5.35353535,  5.45454545,\n",
              "        5.55555556,  5.65656566,  5.75757576,  5.85858586,  5.95959596,\n",
              "        6.06060606,  6.16161616,  6.26262626,  6.36363636,  6.46464646,\n",
              "        6.56565657,  6.66666667,  6.76767677,  6.86868687,  6.96969697,\n",
              "        7.07070707,  7.17171717,  7.27272727,  7.37373737,  7.47474747,\n",
              "        7.57575758,  7.67676768,  7.77777778,  7.87878788,  7.97979798,\n",
              "        8.08080808,  8.18181818,  8.28282828,  8.38383838,  8.48484848,\n",
              "        8.58585859,  8.68686869,  8.78787879,  8.88888889,  8.98989899,\n",
              "        9.09090909,  9.19191919,  9.29292929,  9.39393939,  9.49494949,\n",
              "        9.5959596 ,  9.6969697 ,  9.7979798 ,  9.8989899 , 10.        ])"
            ]
          },
          "metadata": {
            "tags": []
          },
          "execution_count": 18
        }
      ]
    },
    {
      "cell_type": "markdown",
      "metadata": {
        "id": "Tm5tMQHfkYm3",
        "colab_type": "text"
      },
      "source": [
        "Función EYE"
      ]
    },
    {
      "cell_type": "code",
      "metadata": {
        "id": "atQhPcAskhYb",
        "colab_type": "code",
        "outputId": "dd7a7489-0d31-493c-d021-435bbdbc950b",
        "colab": {
          "base_uri": "https://localhost:8080/",
          "height": 85
        }
      },
      "source": [
        "np.eye(4)"
      ],
      "execution_count": 19,
      "outputs": [
        {
          "output_type": "execute_result",
          "data": {
            "text/plain": [
              "array([[1., 0., 0., 0.],\n",
              "       [0., 1., 0., 0.],\n",
              "       [0., 0., 1., 0.],\n",
              "       [0., 0., 0., 1.]])"
            ]
          },
          "metadata": {
            "tags": []
          },
          "execution_count": 19
        }
      ]
    },
    {
      "cell_type": "markdown",
      "metadata": {
        "id": "rAkUk-i4kvkE",
        "colab_type": "text"
      },
      "source": [
        "Generación de números aleatorios"
      ]
    },
    {
      "cell_type": "code",
      "metadata": {
        "id": "FqZHhuM2kyiY",
        "colab_type": "code",
        "outputId": "c0bcd407-69f8-413f-e848-d3196b37e5a1",
        "colab": {
          "base_uri": "https://localhost:8080/",
          "height": 34
        }
      },
      "source": [
        "np.random.rand()"
      ],
      "execution_count": 20,
      "outputs": [
        {
          "output_type": "execute_result",
          "data": {
            "text/plain": [
              "0.13684794303089187"
            ]
          },
          "metadata": {
            "tags": []
          },
          "execution_count": 20
        }
      ]
    },
    {
      "cell_type": "code",
      "metadata": {
        "id": "pq2usr-ilLB9",
        "colab_type": "code",
        "outputId": "b18962d8-8110-4154-bcad-2c4b25c5d9f7",
        "colab": {
          "base_uri": "https://localhost:8080/",
          "height": 34
        }
      },
      "source": [
        "np.random.rand(5)"
      ],
      "execution_count": 21,
      "outputs": [
        {
          "output_type": "execute_result",
          "data": {
            "text/plain": [
              "array([0.53355442, 0.61810795, 0.40349846, 0.70261084, 0.85100795])"
            ]
          },
          "metadata": {
            "tags": []
          },
          "execution_count": 21
        }
      ]
    },
    {
      "cell_type": "markdown",
      "metadata": {
        "id": "01QP1Ilwlj0t",
        "colab_type": "text"
      },
      "source": [
        "Crear números aleatorios a partir de una semilla"
      ]
    },
    {
      "cell_type": "code",
      "metadata": {
        "id": "Q_pqR9xflnfi",
        "colab_type": "code",
        "colab": {}
      },
      "source": [
        "np.random.seed(10)"
      ],
      "execution_count": 0,
      "outputs": []
    },
    {
      "cell_type": "code",
      "metadata": {
        "id": "ZfNcIVBSlzpP",
        "colab_type": "code",
        "outputId": "3c680c93-961b-47e6-a645-6f93c0371947",
        "colab": {
          "base_uri": "https://localhost:8080/",
          "height": 34
        }
      },
      "source": [
        "np.random.rand(4)"
      ],
      "execution_count": 23,
      "outputs": [
        {
          "output_type": "execute_result",
          "data": {
            "text/plain": [
              "array([0.77132064, 0.02075195, 0.63364823, 0.74880388])"
            ]
          },
          "metadata": {
            "tags": []
          },
          "execution_count": 23
        }
      ]
    },
    {
      "cell_type": "code",
      "metadata": {
        "id": "0kIYK5KgmQ0_",
        "colab_type": "code",
        "outputId": "fdb09ceb-0004-4f0b-fdd5-d95fd11c583b",
        "colab": {
          "base_uri": "https://localhost:8080/",
          "height": 102
        }
      },
      "source": [
        "np.random.rand(5,5)"
      ],
      "execution_count": 24,
      "outputs": [
        {
          "output_type": "execute_result",
          "data": {
            "text/plain": [
              "array([[0.49850701, 0.22479665, 0.19806286, 0.76053071, 0.16911084],\n",
              "       [0.08833981, 0.68535982, 0.95339335, 0.00394827, 0.51219226],\n",
              "       [0.81262096, 0.61252607, 0.72175532, 0.29187607, 0.91777412],\n",
              "       [0.71457578, 0.54254437, 0.14217005, 0.37334076, 0.67413362],\n",
              "       [0.44183317, 0.43401399, 0.61776698, 0.51313824, 0.65039718]])"
            ]
          },
          "metadata": {
            "tags": []
          },
          "execution_count": 24
        }
      ]
    },
    {
      "cell_type": "code",
      "metadata": {
        "id": "lzzrTjItmXlS",
        "colab_type": "code",
        "outputId": "ddeb5a20-97a4-413e-fcc9-8d0d85e6197b",
        "colab": {
          "base_uri": "https://localhost:8080/",
          "height": 170
        }
      },
      "source": [
        "np.random.rand(2,4,2)"
      ],
      "execution_count": 25,
      "outputs": [
        {
          "output_type": "execute_result",
          "data": {
            "text/plain": [
              "array([[[0.60103895, 0.8052232 ],\n",
              "        [0.52164715, 0.90864888],\n",
              "        [0.31923609, 0.09045935],\n",
              "        [0.30070006, 0.11398436]],\n",
              "\n",
              "       [[0.82868133, 0.04689632],\n",
              "        [0.62628715, 0.54758616],\n",
              "        [0.819287  , 0.19894754],\n",
              "        [0.8568503 , 0.35165264]]])"
            ]
          },
          "metadata": {
            "tags": []
          },
          "execution_count": 25
        }
      ]
    },
    {
      "cell_type": "markdown",
      "metadata": {
        "id": "GZpb4_3rm-BR",
        "colab_type": "text"
      },
      "source": [
        "Función normal Randn"
      ]
    },
    {
      "cell_type": "code",
      "metadata": {
        "id": "SazCLa5YnEAW",
        "colab_type": "code",
        "outputId": "3712b07f-c34a-48f4-8a29-ea59d950cce8",
        "colab": {
          "base_uri": "https://localhost:8080/",
          "height": 34
        }
      },
      "source": [
        "np.random.randn(2)"
      ],
      "execution_count": 26,
      "outputs": [
        {
          "output_type": "execute_result",
          "data": {
            "text/plain": [
              "array([-0.8169742 ,  1.01961544])"
            ]
          },
          "metadata": {
            "tags": []
          },
          "execution_count": 26
        }
      ]
    },
    {
      "cell_type": "markdown",
      "metadata": {
        "id": "GNp65at2n0mU",
        "colab_type": "text"
      },
      "source": [
        "Función Randint"
      ]
    },
    {
      "cell_type": "code",
      "metadata": {
        "id": "3dz2SrTtn4ms",
        "colab_type": "code",
        "outputId": "976781ef-2d50-4ff3-96b9-8ac312dbf6a0",
        "colab": {
          "base_uri": "https://localhost:8080/",
          "height": 34
        }
      },
      "source": [
        "np.random.randint(90,100,10)"
      ],
      "execution_count": 27,
      "outputs": [
        {
          "output_type": "execute_result",
          "data": {
            "text/plain": [
              "array([92, 98, 98, 96, 96, 95, 96, 90, 90, 96])"
            ]
          },
          "metadata": {
            "tags": []
          },
          "execution_count": 27
        }
      ]
    },
    {
      "cell_type": "markdown",
      "metadata": {
        "id": "yHLJ-6QUoaN1",
        "colab_type": "text"
      },
      "source": [
        "Atributos y manipulación de los arreglos"
      ]
    },
    {
      "cell_type": "markdown",
      "metadata": {
        "id": "XY9gQZI8oo0K",
        "colab_type": "text"
      },
      "source": [
        "Generar tres arreglos\n",
        "\n",
        "1. Función arange (6)\n",
        "2. Función randint 0 50 de diez posiciones\n",
        "3. Función randint 0 50 matriz de 10*10"
      ]
    },
    {
      "cell_type": "code",
      "metadata": {
        "id": "FF7zMA7KoTx1",
        "colab_type": "code",
        "colab": {}
      },
      "source": [
        "ar1= np.arange(6)"
      ],
      "execution_count": 0,
      "outputs": []
    },
    {
      "cell_type": "code",
      "metadata": {
        "id": "8KttrhiOohSq",
        "colab_type": "code",
        "colab": {}
      },
      "source": [
        "ar2= np.random.randint(0,50,10)"
      ],
      "execution_count": 0,
      "outputs": []
    },
    {
      "cell_type": "code",
      "metadata": {
        "id": "D1E1kJv6pYNp",
        "colab_type": "code",
        "colab": {}
      },
      "source": [
        "ar3= np.random.randint(0,50,[10,10])"
      ],
      "execution_count": 0,
      "outputs": []
    },
    {
      "cell_type": "code",
      "metadata": {
        "id": "nttcEDahp42w",
        "colab_type": "code",
        "outputId": "237f3831-1be7-4866-b189-1025ecd71254",
        "colab": {
          "base_uri": "https://localhost:8080/",
          "height": 187
        }
      },
      "source": [
        "print(ar1,ar2,ar3)"
      ],
      "execution_count": 31,
      "outputs": [
        {
          "output_type": "stream",
          "text": [
            "[0 1 2 3 4 5] [49 15 44 40 42 45 43 33 45 40] [[25  9 37  0 18 23  3 29 16 20]\n",
            " [18 48 14 15 17 25 46 48 42 17]\n",
            " [32 17 41 16 41 26 12 30 17 17]\n",
            " [16  0 31 37  9  0 38 22 32  2]\n",
            " [ 3 31 35 27 18 13 43 48 29 45]\n",
            " [11 49 22 37 11 21 33 31 43 24]\n",
            " [32 37  9 40 37 43 43 26  7  8]\n",
            " [21  8 28 45 30 25 25 14 17 21]\n",
            " [13 41 33  4 23 30 28 39 27 39]\n",
            " [ 9  7 22 32  3  9 12  4 30  6]]\n"
          ],
          "name": "stdout"
        }
      ]
    },
    {
      "cell_type": "markdown",
      "metadata": {
        "id": "9tffI7Hngzdo",
        "colab_type": "text"
      },
      "source": [
        "Dimensionalidad de los arreglos"
      ]
    },
    {
      "cell_type": "code",
      "metadata": {
        "id": "McjEoO4nhRRQ",
        "colab_type": "code",
        "outputId": "8baa9d1b-b223-4e3f-89aa-b363271f38d4",
        "colab": {
          "base_uri": "https://localhost:8080/",
          "height": 34
        }
      },
      "source": [
        "ar1.ndim"
      ],
      "execution_count": 32,
      "outputs": [
        {
          "output_type": "execute_result",
          "data": {
            "text/plain": [
              "1"
            ]
          },
          "metadata": {
            "tags": []
          },
          "execution_count": 32
        }
      ]
    },
    {
      "cell_type": "code",
      "metadata": {
        "id": "cJYFvrRyhhD9",
        "colab_type": "code",
        "outputId": "e8e5c670-fa50-4c67-f3c4-bef815c7e019",
        "colab": {
          "base_uri": "https://localhost:8080/",
          "height": 34
        }
      },
      "source": [
        "ar2.ndim"
      ],
      "execution_count": 33,
      "outputs": [
        {
          "output_type": "execute_result",
          "data": {
            "text/plain": [
              "1"
            ]
          },
          "metadata": {
            "tags": []
          },
          "execution_count": 33
        }
      ]
    },
    {
      "cell_type": "code",
      "metadata": {
        "id": "21gtbVB2hl_f",
        "colab_type": "code",
        "outputId": "1c6c689f-627a-4391-d160-2d6ccdff69c3",
        "colab": {
          "base_uri": "https://localhost:8080/",
          "height": 34
        }
      },
      "source": [
        "ar3.ndim"
      ],
      "execution_count": 34,
      "outputs": [
        {
          "output_type": "execute_result",
          "data": {
            "text/plain": [
              "2"
            ]
          },
          "metadata": {
            "tags": []
          },
          "execution_count": 34
        }
      ]
    },
    {
      "cell_type": "markdown",
      "metadata": {
        "id": "iiPavpbhiEs8",
        "colab_type": "text"
      },
      "source": [
        "Shape: Forma del arreglo"
      ]
    },
    {
      "cell_type": "code",
      "metadata": {
        "id": "cuLCyPRyidyf",
        "colab_type": "code",
        "outputId": "6fe0c0b9-e75d-4c71-f438-80ede94d982c",
        "colab": {
          "base_uri": "https://localhost:8080/",
          "height": 34
        }
      },
      "source": [
        "ar1.shape"
      ],
      "execution_count": 35,
      "outputs": [
        {
          "output_type": "execute_result",
          "data": {
            "text/plain": [
              "(6,)"
            ]
          },
          "metadata": {
            "tags": []
          },
          "execution_count": 35
        }
      ]
    },
    {
      "cell_type": "code",
      "metadata": {
        "id": "OGvvGFqciouX",
        "colab_type": "code",
        "outputId": "25b9ff22-7854-4839-b6d4-449c2f917dce",
        "colab": {
          "base_uri": "https://localhost:8080/",
          "height": 34
        }
      },
      "source": [
        "ar2.shape"
      ],
      "execution_count": 36,
      "outputs": [
        {
          "output_type": "execute_result",
          "data": {
            "text/plain": [
              "(10,)"
            ]
          },
          "metadata": {
            "tags": []
          },
          "execution_count": 36
        }
      ]
    },
    {
      "cell_type": "markdown",
      "metadata": {
        "id": "_vx151uBiz3o",
        "colab_type": "text"
      },
      "source": [
        "# Reshape\n",
        "Retorna un arreglo que contiene los mismos daatos que el arreglo original pero con dimensiones nuevas"
      ]
    },
    {
      "cell_type": "code",
      "metadata": {
        "id": "EkfhtxQai1e4",
        "colab_type": "code",
        "outputId": "4cce5f29-69b2-47e0-f4e1-29afd548caa0",
        "colab": {
          "base_uri": "https://localhost:8080/",
          "height": 34
        }
      },
      "source": [
        "ar1"
      ],
      "execution_count": 37,
      "outputs": [
        {
          "output_type": "execute_result",
          "data": {
            "text/plain": [
              "array([0, 1, 2, 3, 4, 5])"
            ]
          },
          "metadata": {
            "tags": []
          },
          "execution_count": 37
        }
      ]
    },
    {
      "cell_type": "code",
      "metadata": {
        "id": "IvpSbQaEjLQg",
        "colab_type": "code",
        "colab": {}
      },
      "source": [
        "ar1=ar1.reshape(2,3)"
      ],
      "execution_count": 0,
      "outputs": []
    },
    {
      "cell_type": "code",
      "metadata": {
        "id": "sKUDeZlmjaSr",
        "colab_type": "code",
        "outputId": "98dc342e-ca8b-4495-d34a-df0a56e551ba",
        "colab": {
          "base_uri": "https://localhost:8080/",
          "height": 51
        }
      },
      "source": [
        "print(ar1)"
      ],
      "execution_count": 39,
      "outputs": [
        {
          "output_type": "stream",
          "text": [
            "[[0 1 2]\n",
            " [3 4 5]]\n"
          ],
          "name": "stdout"
        }
      ]
    },
    {
      "cell_type": "code",
      "metadata": {
        "id": "CXKqxm1TjluP",
        "colab_type": "code",
        "outputId": "55324728-a632-4fb4-8267-bccac76a05f2",
        "colab": {
          "base_uri": "https://localhost:8080/",
          "height": 68
        }
      },
      "source": [
        "ar1.reshape(3,2)"
      ],
      "execution_count": 40,
      "outputs": [
        {
          "output_type": "execute_result",
          "data": {
            "text/plain": [
              "array([[0, 1],\n",
              "       [2, 3],\n",
              "       [4, 5]])"
            ]
          },
          "metadata": {
            "tags": []
          },
          "execution_count": 40
        }
      ]
    },
    {
      "cell_type": "code",
      "metadata": {
        "id": "esQ15G3fjsug",
        "colab_type": "code",
        "outputId": "9489009d-9791-4cd8-b6c0-ce5e59d86a58",
        "colab": {
          "base_uri": "https://localhost:8080/",
          "height": 183
        }
      },
      "source": [
        "ar1.reshape(6,2) #Es necesario que se cumpla la lista de objetos presente el número de elementos para la nueva dimensión"
      ],
      "execution_count": 41,
      "outputs": [
        {
          "output_type": "error",
          "ename": "ValueError",
          "evalue": "ignored",
          "traceback": [
            "\u001b[0;31m---------------------------------------------------------------------------\u001b[0m",
            "\u001b[0;31mValueError\u001b[0m                                Traceback (most recent call last)",
            "\u001b[0;32m<ipython-input-41-fb967332466b>\u001b[0m in \u001b[0;36m<module>\u001b[0;34m()\u001b[0m\n\u001b[0;32m----> 1\u001b[0;31m \u001b[0mar1\u001b[0m\u001b[0;34m.\u001b[0m\u001b[0mreshape\u001b[0m\u001b[0;34m(\u001b[0m\u001b[0;36m6\u001b[0m\u001b[0;34m,\u001b[0m\u001b[0;36m2\u001b[0m\u001b[0;34m)\u001b[0m \u001b[0;31m#Es necesario que se cumpla la lista de objetos presente el número de elementos para la nueva dimensión\u001b[0m\u001b[0;34m\u001b[0m\u001b[0;34m\u001b[0m\u001b[0m\n\u001b[0m",
            "\u001b[0;31mValueError\u001b[0m: cannot reshape array of size 6 into shape (6,2)"
          ]
        }
      ]
    },
    {
      "cell_type": "markdown",
      "metadata": {
        "id": "J_3s29mgkGwj",
        "colab_type": "text"
      },
      "source": [
        ""
      ]
    },
    {
      "cell_type": "markdown",
      "metadata": {
        "id": "vIkp24kIkig5",
        "colab_type": "text"
      },
      "source": [
        "# MAX, MIN, ARGMAX, ARGMIN"
      ]
    },
    {
      "cell_type": "code",
      "metadata": {
        "id": "rvns5312kuNi",
        "colab_type": "code",
        "colab": {}
      },
      "source": [
        "ar2"
      ],
      "execution_count": 0,
      "outputs": []
    },
    {
      "cell_type": "code",
      "metadata": {
        "id": "mGKar5KNjkmP",
        "colab_type": "code",
        "colab": {}
      },
      "source": [
        "ar2.max()"
      ],
      "execution_count": 0,
      "outputs": []
    },
    {
      "cell_type": "code",
      "metadata": {
        "id": "UYC-fS9hlaPQ",
        "colab_type": "code",
        "colab": {}
      },
      "source": [
        "ar2.argmax()"
      ],
      "execution_count": 0,
      "outputs": []
    },
    {
      "cell_type": "code",
      "metadata": {
        "id": "_0w5X9DDlgJK",
        "colab_type": "code",
        "colab": {}
      },
      "source": [
        "ar2.argmin()"
      ],
      "execution_count": 0,
      "outputs": []
    },
    {
      "cell_type": "code",
      "metadata": {
        "id": "VSynO_dVl2Hw",
        "colab_type": "code",
        "colab": {}
      },
      "source": [
        "ar2.min()"
      ],
      "execution_count": 0,
      "outputs": []
    },
    {
      "cell_type": "code",
      "metadata": {
        "id": "U7HhaZvnmIkj",
        "colab_type": "code",
        "colab": {}
      },
      "source": [
        "ar3"
      ],
      "execution_count": 0,
      "outputs": []
    },
    {
      "cell_type": "code",
      "metadata": {
        "id": "_yaH0fhbmbPT",
        "colab_type": "code",
        "colab": {}
      },
      "source": [
        "ar3.max()"
      ],
      "execution_count": 0,
      "outputs": []
    },
    {
      "cell_type": "code",
      "metadata": {
        "id": "bb3KU-w6meoS",
        "colab_type": "code",
        "colab": {}
      },
      "source": [
        "ar3.max(axis=0)#valor 0 es por columnas"
      ],
      "execution_count": 0,
      "outputs": []
    },
    {
      "cell_type": "code",
      "metadata": {
        "id": "L2iP9aUVnLcV",
        "colab_type": "code",
        "colab": {}
      },
      "source": [
        "ar3.max(axis=1)#valor 1 es por filas"
      ],
      "execution_count": 0,
      "outputs": []
    },
    {
      "cell_type": "code",
      "metadata": {
        "id": "uCMpy1pLnPfw",
        "colab_type": "code",
        "colab": {}
      },
      "source": [
        "ar3.argmax(axis=0)#valor 0 es por columnas"
      ],
      "execution_count": 0,
      "outputs": []
    },
    {
      "cell_type": "code",
      "metadata": {
        "id": "eUwFhzVVm1fC",
        "colab_type": "code",
        "colab": {}
      },
      "source": [
        "ar3.argmax(axis=1)#valor 1 es por filas"
      ],
      "execution_count": 0,
      "outputs": []
    },
    {
      "cell_type": "markdown",
      "metadata": {
        "id": "nuSe9wr0of_Z",
        "colab_type": "text"
      },
      "source": [
        "# dtype\n",
        "Averiguar el tipo de dato de un arreglo"
      ]
    },
    {
      "cell_type": "code",
      "metadata": {
        "id": "CRFhO5qyovkO",
        "colab_type": "code",
        "colab": {}
      },
      "source": [
        "ar1.dtype"
      ],
      "execution_count": 0,
      "outputs": []
    },
    {
      "cell_type": "markdown",
      "metadata": {
        "id": "7f3PljJVpFcq",
        "colab_type": "text"
      },
      "source": [
        "Selección condicional"
      ]
    },
    {
      "cell_type": "code",
      "metadata": {
        "id": "-Z4D2ht5pM9I",
        "colab_type": "code",
        "colab": {}
      },
      "source": [
        "ar=np.arange(10,21)"
      ],
      "execution_count": 0,
      "outputs": []
    },
    {
      "cell_type": "code",
      "metadata": {
        "id": "htmEPeLopVgC",
        "colab_type": "code",
        "colab": {
          "base_uri": "https://localhost:8080/",
          "height": 34
        },
        "outputId": "3bc8c982-03d8-409b-8280-633a730a4cfb"
      },
      "source": [
        "print(ar)"
      ],
      "execution_count": 43,
      "outputs": [
        {
          "output_type": "stream",
          "text": [
            "[10 11 12 13 14 15 16 17 18 19 20]\n"
          ],
          "name": "stdout"
        }
      ]
    },
    {
      "cell_type": "code",
      "metadata": {
        "id": "nIiIgG2EppMY",
        "colab_type": "code",
        "colab": {
          "base_uri": "https://localhost:8080/",
          "height": 34
        },
        "outputId": "6d6a3ab9-9830-4aa0-8660-57e6b0f47665"
      },
      "source": [
        "indices_cod=ar>14\n",
        "print(indices_cod)"
      ],
      "execution_count": 44,
      "outputs": [
        {
          "output_type": "stream",
          "text": [
            "[False False False False False  True  True  True  True  True  True]\n"
          ],
          "name": "stdout"
        }
      ]
    },
    {
      "cell_type": "code",
      "metadata": {
        "id": "v8G-IYifqj5Z",
        "colab_type": "code",
        "colab": {
          "base_uri": "https://localhost:8080/",
          "height": 34
        },
        "outputId": "82232c09-20b1-4327-afdf-05e324dc99bc"
      },
      "source": [
        "ar[indices_cod]"
      ],
      "execution_count": 45,
      "outputs": [
        {
          "output_type": "execute_result",
          "data": {
            "text/plain": [
              "array([15, 16, 17, 18, 19, 20])"
            ]
          },
          "metadata": {
            "tags": []
          },
          "execution_count": 45
        }
      ]
    },
    {
      "cell_type": "code",
      "metadata": {
        "id": "W1r60NHCqo2W",
        "colab_type": "code",
        "colab": {
          "base_uri": "https://localhost:8080/",
          "height": 88
        },
        "outputId": "54f75071-e192-473d-bfc6-c3fbc03ee987"
      },
      "source": [
        "ar[indices_cod=='false']"
      ],
      "execution_count": 46,
      "outputs": [
        {
          "output_type": "stream",
          "text": [
            "/usr/local/lib/python3.6/dist-packages/ipykernel_launcher.py:1: FutureWarning: elementwise comparison failed; returning scalar instead, but in the future will perform elementwise comparison\n",
            "  \"\"\"Entry point for launching an IPython kernel.\n"
          ],
          "name": "stderr"
        },
        {
          "output_type": "execute_result",
          "data": {
            "text/plain": [
              "array([], shape=(0, 11), dtype=int64)"
            ]
          },
          "metadata": {
            "tags": []
          },
          "execution_count": 46
        }
      ]
    },
    {
      "cell_type": "code",
      "metadata": {
        "id": "eUTHCqhIq3zG",
        "colab_type": "code",
        "colab": {
          "base_uri": "https://localhost:8080/",
          "height": 34
        },
        "outputId": "0d0e5f9b-fd2a-4f8a-bfaa-1e230a91de7a"
      },
      "source": [
        "ar[(ar>12)&(ar<18)]#número del arreglo entre 12 y 18 abierto"
      ],
      "execution_count": 47,
      "outputs": [
        {
          "output_type": "execute_result",
          "data": {
            "text/plain": [
              "array([13, 14, 15, 16, 17])"
            ]
          },
          "metadata": {
            "tags": []
          },
          "execution_count": 47
        }
      ]
    },
    {
      "cell_type": "code",
      "metadata": {
        "id": "WBxn34uCr5RZ",
        "colab_type": "code",
        "colab": {
          "base_uri": "https://localhost:8080/",
          "height": 34
        },
        "outputId": "3d293db4-3bdb-40fa-feba-bcf729683730"
      },
      "source": [
        "np.where(ar>16)#Recupera los indices donde se cumpla la condición"
      ],
      "execution_count": 48,
      "outputs": [
        {
          "output_type": "execute_result",
          "data": {
            "text/plain": [
              "(array([ 7,  8,  9, 10]),)"
            ]
          },
          "metadata": {
            "tags": []
          },
          "execution_count": 48
        }
      ]
    },
    {
      "cell_type": "code",
      "metadata": {
        "id": "w2JenMQ-sgDo",
        "colab_type": "code",
        "colab": {
          "base_uri": "https://localhost:8080/",
          "height": 34
        },
        "outputId": "31ab8ba0-b520-439e-f618-57af4a3154d8"
      },
      "source": [
        "np.where(ar>16,1,-1)"
      ],
      "execution_count": 49,
      "outputs": [
        {
          "output_type": "execute_result",
          "data": {
            "text/plain": [
              "array([-1, -1, -1, -1, -1, -1, -1,  1,  1,  1,  1])"
            ]
          },
          "metadata": {
            "tags": []
          },
          "execution_count": 49
        }
      ]
    },
    {
      "cell_type": "markdown",
      "metadata": {
        "id": "LgkbuURxtOt2",
        "colab_type": "text"
      },
      "source": [
        "# Operación con vectores"
      ]
    },
    {
      "cell_type": "code",
      "metadata": {
        "id": "_J7KKMGksn9r",
        "colab_type": "code",
        "colab": {
          "base_uri": "https://localhost:8080/",
          "height": 34
        },
        "outputId": "4084933e-561a-4d99-fed3-0e002aa3e56f"
      },
      "source": [
        "v1=np.array([2,10,10])\n",
        "print(v1)"
      ],
      "execution_count": 50,
      "outputs": [
        {
          "output_type": "stream",
          "text": [
            "[ 2 10 10]\n"
          ],
          "name": "stdout"
        }
      ]
    },
    {
      "cell_type": "code",
      "metadata": {
        "id": "xcEVUZaBt7LB",
        "colab_type": "code",
        "colab": {
          "base_uri": "https://localhost:8080/",
          "height": 34
        },
        "outputId": "62183a21-f40a-4b1d-c605-bc87fbdc7185"
      },
      "source": [
        "print(2*v1)"
      ],
      "execution_count": 51,
      "outputs": [
        {
          "output_type": "stream",
          "text": [
            "[ 4 20 20]\n"
          ],
          "name": "stdout"
        }
      ]
    },
    {
      "cell_type": "code",
      "metadata": {
        "id": "dP2kc8MguBmR",
        "colab_type": "code",
        "colab": {
          "base_uri": "https://localhost:8080/",
          "height": 51
        },
        "outputId": "1bf5c39d-aa70-40e3-8be2-e946471b7277"
      },
      "source": [
        "v2=np.array([1,2,1])\n",
        "print(v1)\n",
        "print(v2)"
      ],
      "execution_count": 52,
      "outputs": [
        {
          "output_type": "stream",
          "text": [
            "[ 2 10 10]\n",
            "[1 2 1]\n"
          ],
          "name": "stdout"
        }
      ]
    },
    {
      "cell_type": "code",
      "metadata": {
        "id": "trHXiRBTuj-r",
        "colab_type": "code",
        "colab": {
          "base_uri": "https://localhost:8080/",
          "height": 34
        },
        "outputId": "c220d00f-20b9-44d4-c73a-ffc5b12f687b"
      },
      "source": [
        "print(v1+v2)"
      ],
      "execution_count": 54,
      "outputs": [
        {
          "output_type": "stream",
          "text": [
            "[ 3 12 11]\n"
          ],
          "name": "stdout"
        }
      ]
    },
    {
      "cell_type": "code",
      "metadata": {
        "id": "8NcRza_Jo2rP",
        "colab_type": "code",
        "colab": {
          "base_uri": "https://localhost:8080/",
          "height": 34
        },
        "outputId": "5af876c1-0e1a-44b1-9481-78399f666c47"
      },
      "source": [
        "arr1=np.arange(0,10)\n",
        "arr1"
      ],
      "execution_count": 56,
      "outputs": [
        {
          "output_type": "execute_result",
          "data": {
            "text/plain": [
              "array([0, 1, 2, 3, 4, 5, 6, 7, 8, 9])"
            ]
          },
          "metadata": {
            "tags": []
          },
          "execution_count": 56
        }
      ]
    },
    {
      "cell_type": "code",
      "metadata": {
        "id": "Fxz_IY3QpI9d",
        "colab_type": "code",
        "colab": {
          "base_uri": "https://localhost:8080/",
          "height": 163
        },
        "outputId": "87adcdb0-a353-4641-d993-c4cfb07c70cb"
      },
      "source": [
        "1/0"
      ],
      "execution_count": 57,
      "outputs": [
        {
          "output_type": "error",
          "ename": "ZeroDivisionError",
          "evalue": "ignored",
          "traceback": [
            "\u001b[0;31m---------------------------------------------------------------------------\u001b[0m",
            "\u001b[0;31mZeroDivisionError\u001b[0m                         Traceback (most recent call last)",
            "\u001b[0;32m<ipython-input-57-9e1622b385b6>\u001b[0m in \u001b[0;36m<module>\u001b[0;34m()\u001b[0m\n\u001b[0;32m----> 1\u001b[0;31m \u001b[0;36m1\u001b[0m\u001b[0;34m/\u001b[0m\u001b[0;36m0\u001b[0m\u001b[0;34m\u001b[0m\u001b[0;34m\u001b[0m\u001b[0m\n\u001b[0m",
            "\u001b[0;31mZeroDivisionError\u001b[0m: division by zero"
          ]
        }
      ]
    },
    {
      "cell_type": "code",
      "metadata": {
        "id": "yPbnADJqpMF_",
        "colab_type": "code",
        "colab": {
          "base_uri": "https://localhost:8080/",
          "height": 68
        },
        "outputId": "e5616eea-4314-4064-8b73-2d78178b4d37"
      },
      "source": [
        "arr1/arr1"
      ],
      "execution_count": 58,
      "outputs": [
        {
          "output_type": "stream",
          "text": [
            "/usr/local/lib/python3.6/dist-packages/ipykernel_launcher.py:1: RuntimeWarning: invalid value encountered in true_divide\n",
            "  \"\"\"Entry point for launching an IPython kernel.\n"
          ],
          "name": "stderr"
        },
        {
          "output_type": "execute_result",
          "data": {
            "text/plain": [
              "array([nan,  1.,  1.,  1.,  1.,  1.,  1.,  1.,  1.,  1.])"
            ]
          },
          "metadata": {
            "tags": []
          },
          "execution_count": 58
        }
      ]
    },
    {
      "cell_type": "code",
      "metadata": {
        "id": "q5BKoUmRpRrX",
        "colab_type": "code",
        "colab": {
          "base_uri": "https://localhost:8080/",
          "height": 85
        },
        "outputId": "d47e6d72-b752-4375-863b-38ba271a8013"
      },
      "source": [
        "1/arr1"
      ],
      "execution_count": 59,
      "outputs": [
        {
          "output_type": "stream",
          "text": [
            "/usr/local/lib/python3.6/dist-packages/ipykernel_launcher.py:1: RuntimeWarning: divide by zero encountered in true_divide\n",
            "  \"\"\"Entry point for launching an IPython kernel.\n"
          ],
          "name": "stderr"
        },
        {
          "output_type": "execute_result",
          "data": {
            "text/plain": [
              "array([       inf, 1.        , 0.5       , 0.33333333, 0.25      ,\n",
              "       0.2       , 0.16666667, 0.14285714, 0.125     , 0.11111111])"
            ]
          },
          "metadata": {
            "tags": []
          },
          "execution_count": 59
        }
      ]
    },
    {
      "cell_type": "code",
      "metadata": {
        "id": "nmamNbDipf_v",
        "colab_type": "code",
        "colab": {
          "base_uri": "https://localhost:8080/",
          "height": 34
        },
        "outputId": "5a943a5c-e130-498d-aaa6-c2c628f44fda"
      },
      "source": [
        "# concatenate solo concatena vectores numericos\n",
        "np.concatenate((arr1,arr1))"
      ],
      "execution_count": 61,
      "outputs": [
        {
          "output_type": "execute_result",
          "data": {
            "text/plain": [
              "array([0, 1, 2, 3, 4, 5, 6, 7, 8, 9, 0, 1, 2, 3, 4, 5, 6, 7, 8, 9])"
            ]
          },
          "metadata": {
            "tags": []
          },
          "execution_count": 61
        }
      ]
    },
    {
      "cell_type": "markdown",
      "metadata": {
        "id": "e3Xy6emmqLJQ",
        "colab_type": "text"
      },
      "source": [
        "Diferencias en listas de Python"
      ]
    },
    {
      "cell_type": "code",
      "metadata": {
        "id": "icCfAXDUqDvB",
        "colab_type": "code",
        "colab": {}
      },
      "source": [
        "lista=[1,2]\n",
        "lista2=[3,4]"
      ],
      "execution_count": 0,
      "outputs": []
    },
    {
      "cell_type": "code",
      "metadata": {
        "id": "ynRPBahfqary",
        "colab_type": "code",
        "colab": {
          "base_uri": "https://localhost:8080/",
          "height": 34
        },
        "outputId": "93e04101-5d26-4204-c693-d31f632cca80"
      },
      "source": [
        "#no funciona igual que con la libreria numpy\n",
        "lista+lista2"
      ],
      "execution_count": 64,
      "outputs": [
        {
          "output_type": "execute_result",
          "data": {
            "text/plain": [
              "[1, 2, 3, 4]"
            ]
          },
          "metadata": {
            "tags": []
          },
          "execution_count": 64
        }
      ]
    },
    {
      "cell_type": "code",
      "metadata": {
        "id": "8ksKfkmmqhCD",
        "colab_type": "code",
        "colab": {
          "base_uri": "https://localhost:8080/",
          "height": 34
        },
        "outputId": "f8874c82-e79a-4af8-da26-423f64af3bea"
      },
      "source": [
        "lista*5"
      ],
      "execution_count": 66,
      "outputs": [
        {
          "output_type": "execute_result",
          "data": {
            "text/plain": [
              "[1, 2, 1, 2, 1, 2, 1, 2, 1, 2]"
            ]
          },
          "metadata": {
            "tags": []
          },
          "execution_count": 66
        }
      ]
    },
    {
      "cell_type": "code",
      "metadata": {
        "id": "Y_JBIoKgquHD",
        "colab_type": "code",
        "colab": {
          "base_uri": "https://localhost:8080/",
          "height": 34
        },
        "outputId": "7915ca66-d3ae-4aab-85a1-f3c78755ae84"
      },
      "source": [
        "# el & busca la interseccion o los datos comunes\n",
        "{1,2,4} & {3,4}"
      ],
      "execution_count": 68,
      "outputs": [
        {
          "output_type": "execute_result",
          "data": {
            "text/plain": [
              "{4}"
            ]
          },
          "metadata": {
            "tags": []
          },
          "execution_count": 68
        }
      ]
    },
    {
      "cell_type": "code",
      "metadata": {
        "id": "WVI4Y-Idq-OX",
        "colab_type": "code",
        "colab": {}
      },
      "source": [
        ""
      ],
      "execution_count": 0,
      "outputs": []
    }
  ]
}