{
  "nbformat": 4,
  "nbformat_minor": 0,
  "metadata": {
    "colab": {
      "name": "NumPy.ipynb",
      "provenance": [],
      "collapsed_sections": []
    },
    "kernelspec": {
      "name": "python3",
      "display_name": "Python 3"
    }
  },
  "cells": [
    {
      "cell_type": "markdown",
      "metadata": {
        "id": "5-l7eo7pfF_w",
        "colab_type": "text"
      },
      "source": [
        "# NumPy: Libreria de algebra lineal para python\n",
        "\n",
        "Libreria fundamental para python"
      ]
    },
    {
      "cell_type": "markdown",
      "metadata": {
        "id": "K6cZbvHDf_nW",
        "colab_type": "text"
      },
      "source": [
        "Importar NumPy en GCP"
      ]
    },
    {
      "cell_type": "code",
      "metadata": {
        "id": "uS0FNkL4fr6L",
        "colab_type": "code",
        "colab": {}
      },
      "source": [
        "import numpy as np"
      ],
      "execution_count": 0,
      "outputs": []
    },
    {
      "cell_type": "markdown",
      "metadata": {
        "id": "tDTFBVVUgXej",
        "colab_type": "text"
      },
      "source": [
        "Arreglos NumPy\n",
        "**Tipo de arreglos**\n",
        "\n",
        "Vectores de 1 d\n",
        "Vectores de 2 d"
      ]
    },
    {
      "cell_type": "code",
      "metadata": {
        "id": "F-oGxCQegRX9",
        "colab_type": "code",
        "colab": {}
      },
      "source": [
        "lista=[1,2,3]"
      ],
      "execution_count": 0,
      "outputs": []
    },
    {
      "cell_type": "code",
      "metadata": {
        "id": "ozDHM3m1gyUI",
        "colab_type": "code",
        "colab": {
          "base_uri": "https://localhost:8080/",
          "height": 34
        },
        "outputId": "603a6755-1823-408b-bce1-b2ded4e565e3"
      },
      "source": [
        "np.array(lista)"
      ],
      "execution_count": 3,
      "outputs": [
        {
          "output_type": "execute_result",
          "data": {
            "text/plain": [
              "array([1, 2, 3])"
            ]
          },
          "metadata": {
            "tags": []
          },
          "execution_count": 3
        }
      ]
    },
    {
      "cell_type": "code",
      "metadata": {
        "id": "mJfNPj_Yg_q2",
        "colab_type": "code",
        "colab": {}
      },
      "source": [
        "arreglo=np.array(lista)"
      ],
      "execution_count": 0,
      "outputs": []
    },
    {
      "cell_type": "code",
      "metadata": {
        "id": "O_1xjfJ5hHSL",
        "colab_type": "code",
        "colab": {}
      },
      "source": [
        "matriz=[[1,2,3],[4,5,6],[7,8,9]]"
      ],
      "execution_count": 0,
      "outputs": []
    },
    {
      "cell_type": "code",
      "metadata": {
        "id": "p5sJ2l-WhZ-Q",
        "colab_type": "code",
        "colab": {
          "base_uri": "https://localhost:8080/",
          "height": 68
        },
        "outputId": "f0609745-fa8f-4b20-8118-31852b9f1552"
      },
      "source": [
        "np.array(matriz)"
      ],
      "execution_count": 6,
      "outputs": [
        {
          "output_type": "execute_result",
          "data": {
            "text/plain": [
              "array([[1, 2, 3],\n",
              "       [4, 5, 6],\n",
              "       [7, 8, 9]])"
            ]
          },
          "metadata": {
            "tags": []
          },
          "execution_count": 6
        }
      ]
    },
    {
      "cell_type": "markdown",
      "metadata": {
        "id": "qgigrKk3hpAo",
        "colab_type": "text"
      },
      "source": [
        "Funciones para generar arreglos"
      ]
    },
    {
      "cell_type": "code",
      "metadata": {
        "id": "X8JVAxoThspp",
        "colab_type": "code",
        "colab": {
          "base_uri": "https://localhost:8080/",
          "height": 34
        },
        "outputId": "f6b14ae7-547c-4dd9-c8db-6922487e1fc2"
      },
      "source": [
        "np.arange(0,10)"
      ],
      "execution_count": 7,
      "outputs": [
        {
          "output_type": "execute_result",
          "data": {
            "text/plain": [
              "array([0, 1, 2, 3, 4, 5, 6, 7, 8, 9])"
            ]
          },
          "metadata": {
            "tags": []
          },
          "execution_count": 7
        }
      ]
    },
    {
      "cell_type": "code",
      "metadata": {
        "id": "feVeo8v5iBnN",
        "colab_type": "code",
        "colab": {
          "base_uri": "https://localhost:8080/",
          "height": 34
        },
        "outputId": "a7596a1b-7605-44ae-c238-3000e03d8866"
      },
      "source": [
        "list(range(0,10))"
      ],
      "execution_count": 8,
      "outputs": [
        {
          "output_type": "execute_result",
          "data": {
            "text/plain": [
              "[0, 1, 2, 3, 4, 5, 6, 7, 8, 9]"
            ]
          },
          "metadata": {
            "tags": []
          },
          "execution_count": 8
        }
      ]
    },
    {
      "cell_type": "code",
      "metadata": {
        "id": "jMzUs9p_iSyd",
        "colab_type": "code",
        "colab": {
          "base_uri": "https://localhost:8080/",
          "height": 34
        },
        "outputId": "9db6b98e-c6e3-46b6-9b22-7b1a5350c818"
      },
      "source": [
        "np.arange(0,11,2)"
      ],
      "execution_count": 9,
      "outputs": [
        {
          "output_type": "execute_result",
          "data": {
            "text/plain": [
              "array([ 0,  2,  4,  6,  8, 10])"
            ]
          },
          "metadata": {
            "tags": []
          },
          "execution_count": 9
        }
      ]
    },
    {
      "cell_type": "markdown",
      "metadata": {
        "id": "UY4geqT2inz-",
        "colab_type": "text"
      },
      "source": [
        "Función Zeros / Ones"
      ]
    },
    {
      "cell_type": "code",
      "metadata": {
        "id": "_xyV94UViuI6",
        "colab_type": "code",
        "colab": {
          "base_uri": "https://localhost:8080/",
          "height": 34
        },
        "outputId": "06647e28-f9d1-4805-def4-d83ec394fe13"
      },
      "source": [
        "np.zeros(3)"
      ],
      "execution_count": 10,
      "outputs": [
        {
          "output_type": "execute_result",
          "data": {
            "text/plain": [
              "array([0., 0., 0.])"
            ]
          },
          "metadata": {
            "tags": []
          },
          "execution_count": 10
        }
      ]
    },
    {
      "cell_type": "code",
      "metadata": {
        "id": "s7XcX-eTikN7",
        "colab_type": "code",
        "colab": {
          "base_uri": "https://localhost:8080/",
          "height": 102
        },
        "outputId": "b2039fd1-faa2-47fd-a525-8f985d6879eb"
      },
      "source": [
        "np.zeros((5,5))"
      ],
      "execution_count": 11,
      "outputs": [
        {
          "output_type": "execute_result",
          "data": {
            "text/plain": [
              "array([[0., 0., 0., 0., 0.],\n",
              "       [0., 0., 0., 0., 0.],\n",
              "       [0., 0., 0., 0., 0.],\n",
              "       [0., 0., 0., 0., 0.],\n",
              "       [0., 0., 0., 0., 0.]])"
            ]
          },
          "metadata": {
            "tags": []
          },
          "execution_count": 11
        }
      ]
    },
    {
      "cell_type": "code",
      "metadata": {
        "id": "F6AKwa7VjH5e",
        "colab_type": "code",
        "colab": {
          "base_uri": "https://localhost:8080/",
          "height": 51
        },
        "outputId": "25db00c2-8946-482a-ef75-fad9c656b4dd"
      },
      "source": [
        "np.zeros((2,3))"
      ],
      "execution_count": 12,
      "outputs": [
        {
          "output_type": "execute_result",
          "data": {
            "text/plain": [
              "array([[0., 0., 0.],\n",
              "       [0., 0., 0.]])"
            ]
          },
          "metadata": {
            "tags": []
          },
          "execution_count": 12
        }
      ]
    },
    {
      "cell_type": "code",
      "metadata": {
        "id": "Q5p8KnbWjPO_",
        "colab_type": "code",
        "colab": {
          "base_uri": "https://localhost:8080/",
          "height": 51
        },
        "outputId": "7329d955-5b92-400a-c6fe-a945b5a384f0"
      },
      "source": [
        "np.zeros((2,3), dtype='int')"
      ],
      "execution_count": 13,
      "outputs": [
        {
          "output_type": "execute_result",
          "data": {
            "text/plain": [
              "array([[0, 0, 0],\n",
              "       [0, 0, 0]])"
            ]
          },
          "metadata": {
            "tags": []
          },
          "execution_count": 13
        }
      ]
    },
    {
      "cell_type": "code",
      "metadata": {
        "id": "iOWy8QPAjhc9",
        "colab_type": "code",
        "colab": {
          "base_uri": "https://localhost:8080/",
          "height": 34
        },
        "outputId": "6035a83f-5a59-4759-e591-8dc75c6dff81"
      },
      "source": [
        "np.ones(3)"
      ],
      "execution_count": 14,
      "outputs": [
        {
          "output_type": "execute_result",
          "data": {
            "text/plain": [
              "array([1., 1., 1.])"
            ]
          },
          "metadata": {
            "tags": []
          },
          "execution_count": 14
        }
      ]
    },
    {
      "cell_type": "code",
      "metadata": {
        "id": "Pum8GCC9jmtP",
        "colab_type": "code",
        "colab": {
          "base_uri": "https://localhost:8080/",
          "height": 68
        },
        "outputId": "0a949ee2-ba18-4c46-ee62-2c6767057069"
      },
      "source": [
        "np.ones((3,5))"
      ],
      "execution_count": 15,
      "outputs": [
        {
          "output_type": "execute_result",
          "data": {
            "text/plain": [
              "array([[1., 1., 1., 1., 1.],\n",
              "       [1., 1., 1., 1., 1.],\n",
              "       [1., 1., 1., 1., 1.]])"
            ]
          },
          "metadata": {
            "tags": []
          },
          "execution_count": 15
        }
      ]
    },
    {
      "cell_type": "markdown",
      "metadata": {
        "id": "n0eM2myCjx_s",
        "colab_type": "text"
      },
      "source": [
        "Función Linspace: retorno de un número de parametros según se indique"
      ]
    },
    {
      "cell_type": "code",
      "metadata": {
        "id": "fQIcY5brj8Q6",
        "colab_type": "code",
        "colab": {
          "base_uri": "https://localhost:8080/",
          "height": 34
        },
        "outputId": "f8ea0dc3-d873-497f-871b-41e2cc1d7e52"
      },
      "source": [
        "np.linspace(0,10,3) #la distancia entre los elementos es la misma"
      ],
      "execution_count": 16,
      "outputs": [
        {
          "output_type": "execute_result",
          "data": {
            "text/plain": [
              "array([ 0.,  5., 10.])"
            ]
          },
          "metadata": {
            "tags": []
          },
          "execution_count": 16
        }
      ]
    },
    {
      "cell_type": "code",
      "metadata": {
        "id": "ijZXmXNJjv3M",
        "colab_type": "code",
        "colab": {
          "base_uri": "https://localhost:8080/",
          "height": 357
        },
        "outputId": "1a6c6bbf-582b-46b3-aa99-3e8286744d3b"
      },
      "source": [
        "np.linspace(0,10,100)"
      ],
      "execution_count": 17,
      "outputs": [
        {
          "output_type": "execute_result",
          "data": {
            "text/plain": [
              "array([ 0.        ,  0.1010101 ,  0.2020202 ,  0.3030303 ,  0.4040404 ,\n",
              "        0.50505051,  0.60606061,  0.70707071,  0.80808081,  0.90909091,\n",
              "        1.01010101,  1.11111111,  1.21212121,  1.31313131,  1.41414141,\n",
              "        1.51515152,  1.61616162,  1.71717172,  1.81818182,  1.91919192,\n",
              "        2.02020202,  2.12121212,  2.22222222,  2.32323232,  2.42424242,\n",
              "        2.52525253,  2.62626263,  2.72727273,  2.82828283,  2.92929293,\n",
              "        3.03030303,  3.13131313,  3.23232323,  3.33333333,  3.43434343,\n",
              "        3.53535354,  3.63636364,  3.73737374,  3.83838384,  3.93939394,\n",
              "        4.04040404,  4.14141414,  4.24242424,  4.34343434,  4.44444444,\n",
              "        4.54545455,  4.64646465,  4.74747475,  4.84848485,  4.94949495,\n",
              "        5.05050505,  5.15151515,  5.25252525,  5.35353535,  5.45454545,\n",
              "        5.55555556,  5.65656566,  5.75757576,  5.85858586,  5.95959596,\n",
              "        6.06060606,  6.16161616,  6.26262626,  6.36363636,  6.46464646,\n",
              "        6.56565657,  6.66666667,  6.76767677,  6.86868687,  6.96969697,\n",
              "        7.07070707,  7.17171717,  7.27272727,  7.37373737,  7.47474747,\n",
              "        7.57575758,  7.67676768,  7.77777778,  7.87878788,  7.97979798,\n",
              "        8.08080808,  8.18181818,  8.28282828,  8.38383838,  8.48484848,\n",
              "        8.58585859,  8.68686869,  8.78787879,  8.88888889,  8.98989899,\n",
              "        9.09090909,  9.19191919,  9.29292929,  9.39393939,  9.49494949,\n",
              "        9.5959596 ,  9.6969697 ,  9.7979798 ,  9.8989899 , 10.        ])"
            ]
          },
          "metadata": {
            "tags": []
          },
          "execution_count": 17
        }
      ]
    },
    {
      "cell_type": "markdown",
      "metadata": {
        "id": "Tm5tMQHfkYm3",
        "colab_type": "text"
      },
      "source": [
        "Función EYE"
      ]
    },
    {
      "cell_type": "code",
      "metadata": {
        "id": "atQhPcAskhYb",
        "colab_type": "code",
        "colab": {
          "base_uri": "https://localhost:8080/",
          "height": 85
        },
        "outputId": "5b37b0ed-130e-40c2-bf67-48d7a0dc90cb"
      },
      "source": [
        "np.eye(4)"
      ],
      "execution_count": 18,
      "outputs": [
        {
          "output_type": "execute_result",
          "data": {
            "text/plain": [
              "array([[1., 0., 0., 0.],\n",
              "       [0., 1., 0., 0.],\n",
              "       [0., 0., 1., 0.],\n",
              "       [0., 0., 0., 1.]])"
            ]
          },
          "metadata": {
            "tags": []
          },
          "execution_count": 18
        }
      ]
    },
    {
      "cell_type": "markdown",
      "metadata": {
        "id": "rAkUk-i4kvkE",
        "colab_type": "text"
      },
      "source": [
        "Generación de números aleatorios"
      ]
    },
    {
      "cell_type": "code",
      "metadata": {
        "id": "FqZHhuM2kyiY",
        "colab_type": "code",
        "colab": {
          "base_uri": "https://localhost:8080/",
          "height": 34
        },
        "outputId": "f2170870-1397-4065-945b-98a8bd0284c7"
      },
      "source": [
        "np.random.rand()"
      ],
      "execution_count": 19,
      "outputs": [
        {
          "output_type": "execute_result",
          "data": {
            "text/plain": [
              "0.11840188675905916"
            ]
          },
          "metadata": {
            "tags": []
          },
          "execution_count": 19
        }
      ]
    },
    {
      "cell_type": "code",
      "metadata": {
        "id": "pq2usr-ilLB9",
        "colab_type": "code",
        "colab": {
          "base_uri": "https://localhost:8080/",
          "height": 34
        },
        "outputId": "31cea9cb-d9cf-4d52-ff8a-a5e08a5770a5"
      },
      "source": [
        "np.random.rand(5)"
      ],
      "execution_count": 20,
      "outputs": [
        {
          "output_type": "execute_result",
          "data": {
            "text/plain": [
              "array([0.10435853, 0.88630676, 0.61153795, 0.12366741, 0.637179  ])"
            ]
          },
          "metadata": {
            "tags": []
          },
          "execution_count": 20
        }
      ]
    },
    {
      "cell_type": "markdown",
      "metadata": {
        "id": "01QP1Ilwlj0t",
        "colab_type": "text"
      },
      "source": [
        "Crear números aleatorios a partir de una semilla"
      ]
    },
    {
      "cell_type": "code",
      "metadata": {
        "id": "Q_pqR9xflnfi",
        "colab_type": "code",
        "colab": {}
      },
      "source": [
        "np.random.seed(10)"
      ],
      "execution_count": 0,
      "outputs": []
    },
    {
      "cell_type": "code",
      "metadata": {
        "id": "ZfNcIVBSlzpP",
        "colab_type": "code",
        "colab": {
          "base_uri": "https://localhost:8080/",
          "height": 34
        },
        "outputId": "d2286bb4-1a1e-4f1e-812b-7324cc4e1132"
      },
      "source": [
        "np.random.rand(4)"
      ],
      "execution_count": 22,
      "outputs": [
        {
          "output_type": "execute_result",
          "data": {
            "text/plain": [
              "array([0.77132064, 0.02075195, 0.63364823, 0.74880388])"
            ]
          },
          "metadata": {
            "tags": []
          },
          "execution_count": 22
        }
      ]
    },
    {
      "cell_type": "code",
      "metadata": {
        "id": "0kIYK5KgmQ0_",
        "colab_type": "code",
        "colab": {
          "base_uri": "https://localhost:8080/",
          "height": 102
        },
        "outputId": "bdb94228-e98d-4d64-e932-bbcdf5359b7d"
      },
      "source": [
        "np.random.rand(5,5)"
      ],
      "execution_count": 23,
      "outputs": [
        {
          "output_type": "execute_result",
          "data": {
            "text/plain": [
              "array([[0.49850701, 0.22479665, 0.19806286, 0.76053071, 0.16911084],\n",
              "       [0.08833981, 0.68535982, 0.95339335, 0.00394827, 0.51219226],\n",
              "       [0.81262096, 0.61252607, 0.72175532, 0.29187607, 0.91777412],\n",
              "       [0.71457578, 0.54254437, 0.14217005, 0.37334076, 0.67413362],\n",
              "       [0.44183317, 0.43401399, 0.61776698, 0.51313824, 0.65039718]])"
            ]
          },
          "metadata": {
            "tags": []
          },
          "execution_count": 23
        }
      ]
    },
    {
      "cell_type": "code",
      "metadata": {
        "id": "lzzrTjItmXlS",
        "colab_type": "code",
        "colab": {
          "base_uri": "https://localhost:8080/",
          "height": 170
        },
        "outputId": "0e1732af-8b68-400b-9442-95e263bf62f1"
      },
      "source": [
        "np.random.rand(2,4,2)"
      ],
      "execution_count": 24,
      "outputs": [
        {
          "output_type": "execute_result",
          "data": {
            "text/plain": [
              "array([[[0.60103895, 0.8052232 ],\n",
              "        [0.52164715, 0.90864888],\n",
              "        [0.31923609, 0.09045935],\n",
              "        [0.30070006, 0.11398436]],\n",
              "\n",
              "       [[0.82868133, 0.04689632],\n",
              "        [0.62628715, 0.54758616],\n",
              "        [0.819287  , 0.19894754],\n",
              "        [0.8568503 , 0.35165264]]])"
            ]
          },
          "metadata": {
            "tags": []
          },
          "execution_count": 24
        }
      ]
    },
    {
      "cell_type": "markdown",
      "metadata": {
        "id": "GZpb4_3rm-BR",
        "colab_type": "text"
      },
      "source": [
        "Función normal Randn"
      ]
    },
    {
      "cell_type": "code",
      "metadata": {
        "id": "SazCLa5YnEAW",
        "colab_type": "code",
        "colab": {
          "base_uri": "https://localhost:8080/",
          "height": 34
        },
        "outputId": "dda59e83-66ff-402a-ae89-8d34704fc3ab"
      },
      "source": [
        "np.random.randn(2)"
      ],
      "execution_count": 25,
      "outputs": [
        {
          "output_type": "execute_result",
          "data": {
            "text/plain": [
              "array([-0.8169742 ,  1.01961544])"
            ]
          },
          "metadata": {
            "tags": []
          },
          "execution_count": 25
        }
      ]
    },
    {
      "cell_type": "markdown",
      "metadata": {
        "id": "GNp65at2n0mU",
        "colab_type": "text"
      },
      "source": [
        "Función Randint"
      ]
    },
    {
      "cell_type": "code",
      "metadata": {
        "id": "3dz2SrTtn4ms",
        "colab_type": "code",
        "colab": {
          "base_uri": "https://localhost:8080/",
          "height": 34
        },
        "outputId": "aefe231e-edd3-4fdd-9300-2a69def876a2"
      },
      "source": [
        "np.random.randint(90,100,10)"
      ],
      "execution_count": 26,
      "outputs": [
        {
          "output_type": "execute_result",
          "data": {
            "text/plain": [
              "array([92, 98, 98, 96, 96, 95, 96, 90, 90, 96])"
            ]
          },
          "metadata": {
            "tags": []
          },
          "execution_count": 26
        }
      ]
    },
    {
      "cell_type": "markdown",
      "metadata": {
        "id": "yHLJ-6QUoaN1",
        "colab_type": "text"
      },
      "source": [
        "Atributos y manipulación de los arreglos"
      ]
    },
    {
      "cell_type": "markdown",
      "metadata": {
        "id": "XY9gQZI8oo0K",
        "colab_type": "text"
      },
      "source": [
        "Generar tres arreglos\n",
        "\n",
        "1. Función arange (6)\n",
        "2. Función randint 0 50 de diez posiciones\n",
        "3. Función randint 0 50 matriz de 10*10"
      ]
    },
    {
      "cell_type": "code",
      "metadata": {
        "id": "FF7zMA7KoTx1",
        "colab_type": "code",
        "colab": {}
      },
      "source": [
        "ar1= np.arange(6)"
      ],
      "execution_count": 0,
      "outputs": []
    },
    {
      "cell_type": "code",
      "metadata": {
        "id": "8KttrhiOohSq",
        "colab_type": "code",
        "colab": {}
      },
      "source": [
        "ar2= np.random.randint(0,50,10)"
      ],
      "execution_count": 0,
      "outputs": []
    },
    {
      "cell_type": "code",
      "metadata": {
        "id": "D1E1kJv6pYNp",
        "colab_type": "code",
        "colab": {}
      },
      "source": [
        "ar3= np.random.randint(0,50,[10,10])"
      ],
      "execution_count": 0,
      "outputs": []
    },
    {
      "cell_type": "code",
      "metadata": {
        "id": "nttcEDahp42w",
        "colab_type": "code",
        "colab": {
          "base_uri": "https://localhost:8080/",
          "height": 187
        },
        "outputId": "b315c48d-8f0a-40de-bc1d-8dbc5ce096c9"
      },
      "source": [
        "print(ar1,ar2,ar3)"
      ],
      "execution_count": 30,
      "outputs": [
        {
          "output_type": "stream",
          "text": [
            "[0 1 2 3 4 5] [49 15 44 40 42 45 43 33 45 40] [[25  9 37  0 18 23  3 29 16 20]\n",
            " [18 48 14 15 17 25 46 48 42 17]\n",
            " [32 17 41 16 41 26 12 30 17 17]\n",
            " [16  0 31 37  9  0 38 22 32  2]\n",
            " [ 3 31 35 27 18 13 43 48 29 45]\n",
            " [11 49 22 37 11 21 33 31 43 24]\n",
            " [32 37  9 40 37 43 43 26  7  8]\n",
            " [21  8 28 45 30 25 25 14 17 21]\n",
            " [13 41 33  4 23 30 28 39 27 39]\n",
            " [ 9  7 22 32  3  9 12  4 30  6]]\n"
          ],
          "name": "stdout"
        }
      ]
    },
    {
      "cell_type": "markdown",
      "metadata": {
        "id": "9tffI7Hngzdo",
        "colab_type": "text"
      },
      "source": [
        "Dimensionalidad de los arreglos"
      ]
    },
    {
      "cell_type": "code",
      "metadata": {
        "id": "McjEoO4nhRRQ",
        "colab_type": "code",
        "colab": {
          "base_uri": "https://localhost:8080/",
          "height": 34
        },
        "outputId": "9ab6c49e-17af-4d57-d2c4-ed8562e0ebb0"
      },
      "source": [
        "ar1.ndim"
      ],
      "execution_count": 31,
      "outputs": [
        {
          "output_type": "execute_result",
          "data": {
            "text/plain": [
              "1"
            ]
          },
          "metadata": {
            "tags": []
          },
          "execution_count": 31
        }
      ]
    },
    {
      "cell_type": "code",
      "metadata": {
        "id": "cJYFvrRyhhD9",
        "colab_type": "code",
        "colab": {
          "base_uri": "https://localhost:8080/",
          "height": 34
        },
        "outputId": "833bb2ed-882e-4f1b-cf6b-1e3b22e87fea"
      },
      "source": [
        "ar2.ndim"
      ],
      "execution_count": 32,
      "outputs": [
        {
          "output_type": "execute_result",
          "data": {
            "text/plain": [
              "1"
            ]
          },
          "metadata": {
            "tags": []
          },
          "execution_count": 32
        }
      ]
    },
    {
      "cell_type": "code",
      "metadata": {
        "id": "21gtbVB2hl_f",
        "colab_type": "code",
        "colab": {
          "base_uri": "https://localhost:8080/",
          "height": 34
        },
        "outputId": "a5c3f593-1599-476d-b2bb-9b647c458912"
      },
      "source": [
        "ar3.ndim"
      ],
      "execution_count": 33,
      "outputs": [
        {
          "output_type": "execute_result",
          "data": {
            "text/plain": [
              "2"
            ]
          },
          "metadata": {
            "tags": []
          },
          "execution_count": 33
        }
      ]
    },
    {
      "cell_type": "markdown",
      "metadata": {
        "id": "iiPavpbhiEs8",
        "colab_type": "text"
      },
      "source": [
        "Shape: Forma del arreglo"
      ]
    },
    {
      "cell_type": "code",
      "metadata": {
        "id": "cuLCyPRyidyf",
        "colab_type": "code",
        "colab": {
          "base_uri": "https://localhost:8080/",
          "height": 34
        },
        "outputId": "7d973b2f-8085-454a-cd87-35aef5845dc4"
      },
      "source": [
        "ar1.shape"
      ],
      "execution_count": 34,
      "outputs": [
        {
          "output_type": "execute_result",
          "data": {
            "text/plain": [
              "(6,)"
            ]
          },
          "metadata": {
            "tags": []
          },
          "execution_count": 34
        }
      ]
    },
    {
      "cell_type": "code",
      "metadata": {
        "id": "OGvvGFqciouX",
        "colab_type": "code",
        "colab": {
          "base_uri": "https://localhost:8080/",
          "height": 34
        },
        "outputId": "0f2efe78-6bf9-4d57-d213-6f4d066192e8"
      },
      "source": [
        "ar2.shape"
      ],
      "execution_count": 35,
      "outputs": [
        {
          "output_type": "execute_result",
          "data": {
            "text/plain": [
              "(10,)"
            ]
          },
          "metadata": {
            "tags": []
          },
          "execution_count": 35
        }
      ]
    },
    {
      "cell_type": "markdown",
      "metadata": {
        "id": "_vx151uBiz3o",
        "colab_type": "text"
      },
      "source": [
        "# Reshape\n",
        "Retorna un arreglo que contiene los mismos daatos que el arreglo original pero con dimensiones nuevas"
      ]
    },
    {
      "cell_type": "code",
      "metadata": {
        "id": "EkfhtxQai1e4",
        "colab_type": "code",
        "colab": {
          "base_uri": "https://localhost:8080/",
          "height": 34
        },
        "outputId": "13f4972f-514d-46f6-ec6e-7d9d4004d906"
      },
      "source": [
        "ar1"
      ],
      "execution_count": 36,
      "outputs": [
        {
          "output_type": "execute_result",
          "data": {
            "text/plain": [
              "array([0, 1, 2, 3, 4, 5])"
            ]
          },
          "metadata": {
            "tags": []
          },
          "execution_count": 36
        }
      ]
    },
    {
      "cell_type": "code",
      "metadata": {
        "id": "IvpSbQaEjLQg",
        "colab_type": "code",
        "colab": {}
      },
      "source": [
        "ar1=ar1.reshape(2,3)"
      ],
      "execution_count": 0,
      "outputs": []
    },
    {
      "cell_type": "code",
      "metadata": {
        "id": "sKUDeZlmjaSr",
        "colab_type": "code",
        "colab": {
          "base_uri": "https://localhost:8080/",
          "height": 51
        },
        "outputId": "d7fa303c-22ef-4511-e51b-cef095d877cf"
      },
      "source": [
        "print(ar1)"
      ],
      "execution_count": 38,
      "outputs": [
        {
          "output_type": "stream",
          "text": [
            "[[0 1 2]\n",
            " [3 4 5]]\n"
          ],
          "name": "stdout"
        }
      ]
    },
    {
      "cell_type": "code",
      "metadata": {
        "id": "CXKqxm1TjluP",
        "colab_type": "code",
        "colab": {
          "base_uri": "https://localhost:8080/",
          "height": 68
        },
        "outputId": "6e042c92-3579-4a48-8427-64759a568aca"
      },
      "source": [
        "ar1.reshape(3,2)"
      ],
      "execution_count": 39,
      "outputs": [
        {
          "output_type": "execute_result",
          "data": {
            "text/plain": [
              "array([[0, 1],\n",
              "       [2, 3],\n",
              "       [4, 5]])"
            ]
          },
          "metadata": {
            "tags": []
          },
          "execution_count": 39
        }
      ]
    },
    {
      "cell_type": "code",
      "metadata": {
        "id": "esQ15G3fjsug",
        "colab_type": "code",
        "colab": {
          "base_uri": "https://localhost:8080/",
          "height": 163
        },
        "outputId": "a5d316b4-27c2-41ff-afbc-5be40255f000"
      },
      "source": [
        "ar1.reshape(6,2) #Es necesario que se cumpla la lista de objetos presente el número de elementos para la nueva dimensión"
      ],
      "execution_count": 40,
      "outputs": [
        {
          "output_type": "error",
          "ename": "ValueError",
          "evalue": "ignored",
          "traceback": [
            "\u001b[0;31m---------------------------------------------------------------------------\u001b[0m",
            "\u001b[0;31mValueError\u001b[0m                                Traceback (most recent call last)",
            "\u001b[0;32m<ipython-input-40-fb967332466b>\u001b[0m in \u001b[0;36m<module>\u001b[0;34m()\u001b[0m\n\u001b[0;32m----> 1\u001b[0;31m \u001b[0mar1\u001b[0m\u001b[0;34m.\u001b[0m\u001b[0mreshape\u001b[0m\u001b[0;34m(\u001b[0m\u001b[0;36m6\u001b[0m\u001b[0;34m,\u001b[0m\u001b[0;36m2\u001b[0m\u001b[0;34m)\u001b[0m \u001b[0;31m#Es necesario que se cumpla la lista de objetos presente el número de elementos para la nueva dimensión\u001b[0m\u001b[0;34m\u001b[0m\u001b[0;34m\u001b[0m\u001b[0m\n\u001b[0m",
            "\u001b[0;31mValueError\u001b[0m: cannot reshape array of size 6 into shape (6,2)"
          ]
        }
      ]
    },
    {
      "cell_type": "markdown",
      "metadata": {
        "id": "J_3s29mgkGwj",
        "colab_type": "text"
      },
      "source": [
        ""
      ]
    },
    {
      "cell_type": "markdown",
      "metadata": {
        "id": "vIkp24kIkig5",
        "colab_type": "text"
      },
      "source": [
        "# MAX, MIN, ARGMAX, ARGMIN"
      ]
    },
    {
      "cell_type": "code",
      "metadata": {
        "id": "rvns5312kuNi",
        "colab_type": "code",
        "colab": {}
      },
      "source": [
        "ar2"
      ],
      "execution_count": 0,
      "outputs": []
    },
    {
      "cell_type": "code",
      "metadata": {
        "id": "mGKar5KNjkmP",
        "colab_type": "code",
        "colab": {}
      },
      "source": [
        "ar2.max()"
      ],
      "execution_count": 0,
      "outputs": []
    },
    {
      "cell_type": "code",
      "metadata": {
        "id": "UYC-fS9hlaPQ",
        "colab_type": "code",
        "colab": {}
      },
      "source": [
        "ar2.argmax()"
      ],
      "execution_count": 0,
      "outputs": []
    },
    {
      "cell_type": "code",
      "metadata": {
        "id": "_0w5X9DDlgJK",
        "colab_type": "code",
        "colab": {}
      },
      "source": [
        "ar2.argmin()"
      ],
      "execution_count": 0,
      "outputs": []
    },
    {
      "cell_type": "code",
      "metadata": {
        "id": "VSynO_dVl2Hw",
        "colab_type": "code",
        "colab": {}
      },
      "source": [
        "ar2.min()"
      ],
      "execution_count": 0,
      "outputs": []
    },
    {
      "cell_type": "code",
      "metadata": {
        "id": "U7HhaZvnmIkj",
        "colab_type": "code",
        "colab": {}
      },
      "source": [
        "ar3"
      ],
      "execution_count": 0,
      "outputs": []
    },
    {
      "cell_type": "code",
      "metadata": {
        "id": "_yaH0fhbmbPT",
        "colab_type": "code",
        "colab": {}
      },
      "source": [
        "ar3.max()"
      ],
      "execution_count": 0,
      "outputs": []
    },
    {
      "cell_type": "code",
      "metadata": {
        "id": "bb3KU-w6meoS",
        "colab_type": "code",
        "colab": {}
      },
      "source": [
        "ar3.max(axis=0)#valor 0 es por columnas"
      ],
      "execution_count": 0,
      "outputs": []
    },
    {
      "cell_type": "code",
      "metadata": {
        "id": "L2iP9aUVnLcV",
        "colab_type": "code",
        "colab": {}
      },
      "source": [
        "ar3.max(axis=1)#valor 1 es por filas"
      ],
      "execution_count": 0,
      "outputs": []
    },
    {
      "cell_type": "code",
      "metadata": {
        "id": "uCMpy1pLnPfw",
        "colab_type": "code",
        "colab": {}
      },
      "source": [
        "ar3.argmax(axis=0)#valor 0 es por columnas"
      ],
      "execution_count": 0,
      "outputs": []
    },
    {
      "cell_type": "code",
      "metadata": {
        "id": "eUwFhzVVm1fC",
        "colab_type": "code",
        "colab": {}
      },
      "source": [
        "ar3.argmax(axis=1)#valor 1 es por filas"
      ],
      "execution_count": 0,
      "outputs": []
    },
    {
      "cell_type": "markdown",
      "metadata": {
        "id": "nuSe9wr0of_Z",
        "colab_type": "text"
      },
      "source": [
        "# dtype\n",
        "Averiguar el tipo de dato de un arreglo"
      ]
    },
    {
      "cell_type": "code",
      "metadata": {
        "id": "CRFhO5qyovkO",
        "colab_type": "code",
        "colab": {}
      },
      "source": [
        "ar1.dtype"
      ],
      "execution_count": 0,
      "outputs": []
    },
    {
      "cell_type": "markdown",
      "metadata": {
        "id": "7f3PljJVpFcq",
        "colab_type": "text"
      },
      "source": [
        "Selección condicional"
      ]
    },
    {
      "cell_type": "code",
      "metadata": {
        "id": "-Z4D2ht5pM9I",
        "colab_type": "code",
        "colab": {}
      },
      "source": [
        "ar=np.arange(10,21)"
      ],
      "execution_count": 0,
      "outputs": []
    },
    {
      "cell_type": "code",
      "metadata": {
        "id": "htmEPeLopVgC",
        "colab_type": "code",
        "colab": {}
      },
      "source": [
        "print(ar)"
      ],
      "execution_count": 0,
      "outputs": []
    },
    {
      "cell_type": "code",
      "metadata": {
        "id": "nIiIgG2EppMY",
        "colab_type": "code",
        "colab": {}
      },
      "source": [
        "indices_cod=ar>14\n",
        "print(indices_cod)"
      ],
      "execution_count": 0,
      "outputs": []
    },
    {
      "cell_type": "code",
      "metadata": {
        "id": "v8G-IYifqj5Z",
        "colab_type": "code",
        "colab": {}
      },
      "source": [
        "ar[indices_cod]"
      ],
      "execution_count": 0,
      "outputs": []
    },
    {
      "cell_type": "code",
      "metadata": {
        "id": "W1r60NHCqo2W",
        "colab_type": "code",
        "colab": {}
      },
      "source": [
        "ar[indices_cod=='false']"
      ],
      "execution_count": 0,
      "outputs": []
    },
    {
      "cell_type": "code",
      "metadata": {
        "id": "eUTHCqhIq3zG",
        "colab_type": "code",
        "colab": {}
      },
      "source": [
        "ar[(ar>12)&(ar<18)]#número del arreglo entre 12 y 18 abierto"
      ],
      "execution_count": 0,
      "outputs": []
    },
    {
      "cell_type": "code",
      "metadata": {
        "id": "WBxn34uCr5RZ",
        "colab_type": "code",
        "colab": {}
      },
      "source": [
        "np.where(ar>16)#Recupera los indices donde se cumpla la condición"
      ],
      "execution_count": 0,
      "outputs": []
    },
    {
      "cell_type": "code",
      "metadata": {
        "id": "w2JenMQ-sgDo",
        "colab_type": "code",
        "colab": {}
      },
      "source": [
        "np.where(ar>16,1,-1)"
      ],
      "execution_count": 0,
      "outputs": []
    },
    {
      "cell_type": "markdown",
      "metadata": {
        "id": "LgkbuURxtOt2",
        "colab_type": "text"
      },
      "source": [
        "# Operación con vectores"
      ]
    },
    {
      "cell_type": "code",
      "metadata": {
        "id": "_J7KKMGksn9r",
        "colab_type": "code",
        "colab": {}
      },
      "source": [
        "v1=np.array([2,10,10])\n",
        "print(v1)"
      ],
      "execution_count": 0,
      "outputs": []
    },
    {
      "cell_type": "code",
      "metadata": {
        "id": "xcEVUZaBt7LB",
        "colab_type": "code",
        "colab": {}
      },
      "source": [
        "print(2*v1)"
      ],
      "execution_count": 0,
      "outputs": []
    },
    {
      "cell_type": "code",
      "metadata": {
        "id": "dP2kc8MguBmR",
        "colab_type": "code",
        "colab": {}
      },
      "source": [
        "v2=np.array([1,2,1])\n",
        "print(v1)\n",
        "print(v2)"
      ],
      "execution_count": 0,
      "outputs": []
    },
    {
      "cell_type": "code",
      "metadata": {
        "id": "trHXiRBTuj-r",
        "colab_type": "code",
        "colab": {}
      },
      "source": [
        "print(v1+v2)"
      ],
      "execution_count": 0,
      "outputs": []
    }
  ]
}