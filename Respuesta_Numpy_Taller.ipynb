{
  "nbformat": 4,
  "nbformat_minor": 0,
  "metadata": {
    "colab": {
      "name": "Copia de Numpy - Taller.ipynb",
      "provenance": [],
      "collapsed_sections": [
        "gjyiTZ28FRIB",
        "marpjTh_FRIP",
        "ojsUA-PJFRI6"
      ]
    },
    "kernelspec": {
      "display_name": "Python 3",
      "language": "python",
      "name": "python3"
    }
  },
  "cells": [
    {
      "cell_type": "markdown",
      "metadata": {
        "id": "unWMglupFRBN",
        "colab_type": "text"
      },
      "source": [
        "# NumPy Taller \n",
        "\n"
      ]
    },
    {
      "cell_type": "markdown",
      "metadata": {
        "id": "RaoRSUjjFRBU",
        "colab_type": "text"
      },
      "source": [
        "#### Importar NumPy como np"
      ]
    },
    {
      "cell_type": "code",
      "metadata": {
        "id": "igWimzisFRBa",
        "colab_type": "code",
        "colab": {}
      },
      "source": [
        "import numpy as np"
      ],
      "execution_count": 0,
      "outputs": []
    },
    {
      "cell_type": "markdown",
      "metadata": {
        "id": "aBdSHFMnFRBr",
        "colab_type": "text"
      },
      "source": [
        "#### Crear un arreglo de 10 ceros "
      ]
    },
    {
      "cell_type": "code",
      "metadata": {
        "id": "iBqkPwYiFRBw",
        "colab_type": "code",
        "outputId": "2c1a42a1-cf31-47ca-af08-0385edde36bd",
        "colab": {
          "base_uri": "https://localhost:8080/",
          "height": 34
        }
      },
      "source": [
        "np.zeros(10)"
      ],
      "execution_count": 0,
      "outputs": [
        {
          "output_type": "execute_result",
          "data": {
            "text/plain": [
              "array([0., 0., 0., 0., 0., 0., 0., 0., 0., 0.])"
            ]
          },
          "metadata": {
            "tags": []
          },
          "execution_count": 2
        }
      ]
    },
    {
      "cell_type": "code",
      "metadata": {
        "id": "4bHjbC58FRB6",
        "colab_type": "code",
        "outputId": "fd800f47-9eb3-4e95-8c3a-5ad2608882d1",
        "colab": {}
      },
      "source": [
        "# NO USAR ESTA CELDA PARA QUE NO SE BORRE EL RESULTADO ESPERADO"
      ],
      "execution_count": 0,
      "outputs": [
        {
          "output_type": "execute_result",
          "data": {
            "text/plain": [
              "array([0., 0., 0., 0., 0., 0., 0., 0., 0., 0.])"
            ]
          },
          "metadata": {
            "tags": []
          },
          "execution_count": 2
        }
      ]
    },
    {
      "cell_type": "markdown",
      "metadata": {
        "id": "OwTr4XmEFRCJ",
        "colab_type": "text"
      },
      "source": [
        "#### Crear un arreglo de 10 unos"
      ]
    },
    {
      "cell_type": "code",
      "metadata": {
        "id": "gWhjPIMbFRCN",
        "colab_type": "code",
        "outputId": "000b61f1-7e72-498b-848a-48ffa45df213",
        "colab": {
          "base_uri": "https://localhost:8080/",
          "height": 34
        }
      },
      "source": [
        "np.ones(10)"
      ],
      "execution_count": 0,
      "outputs": [
        {
          "output_type": "execute_result",
          "data": {
            "text/plain": [
              "array([1., 1., 1., 1., 1., 1., 1., 1., 1., 1.])"
            ]
          },
          "metadata": {
            "tags": []
          },
          "execution_count": 3
        }
      ]
    },
    {
      "cell_type": "code",
      "metadata": {
        "id": "qs6m4k2VFRCY",
        "colab_type": "code",
        "outputId": "e8fe2782-4a0f-4976-db91-e46f23c42168",
        "colab": {}
      },
      "source": [
        "# NO USAR ESTA CELDA PARA QUE NO SE BORRE EL RESULTADO ESPERADO"
      ],
      "execution_count": 0,
      "outputs": [
        {
          "output_type": "execute_result",
          "data": {
            "text/plain": [
              "array([1., 1., 1., 1., 1., 1., 1., 1., 1., 1.])"
            ]
          },
          "metadata": {
            "tags": []
          },
          "execution_count": 3
        }
      ]
    },
    {
      "cell_type": "markdown",
      "metadata": {
        "id": "0ATkur1IFRCl",
        "colab_type": "text"
      },
      "source": [
        "#### Crear un arreglo de 10 cincos"
      ]
    },
    {
      "cell_type": "code",
      "metadata": {
        "id": "x4xGewuVFRCq",
        "colab_type": "code",
        "outputId": "39c6ecbf-2bc1-4280-d7c8-c956f01870b3",
        "colab": {
          "base_uri": "https://localhost:8080/",
          "height": 34
        }
      },
      "source": [
        "np.ones(10)*5"
      ],
      "execution_count": 0,
      "outputs": [
        {
          "output_type": "execute_result",
          "data": {
            "text/plain": [
              "array([5., 5., 5., 5., 5., 5., 5., 5., 5., 5.])"
            ]
          },
          "metadata": {
            "tags": []
          },
          "execution_count": 4
        }
      ]
    },
    {
      "cell_type": "code",
      "metadata": {
        "id": "AsmmAP_hFRC2",
        "colab_type": "code",
        "outputId": "fad6a5af-9b10-4b22-aac7-0c9b5c559877",
        "colab": {}
      },
      "source": [
        "# NO USAR ESTA CELDA PARA QUE NO SE BORRE EL RESULTADO ESPERADO"
      ],
      "execution_count": 0,
      "outputs": [
        {
          "output_type": "execute_result",
          "data": {
            "text/plain": [
              "array([5., 5., 5., 5., 5., 5., 5., 5., 5., 5.])"
            ]
          },
          "metadata": {
            "tags": []
          },
          "execution_count": 4
        }
      ]
    },
    {
      "cell_type": "markdown",
      "metadata": {
        "id": "0dgHruZJFRDR",
        "colab_type": "text"
      },
      "source": [
        "#### Crear un arreglo de los números enteros desde 10 hasta 50 (incluido)"
      ]
    },
    {
      "cell_type": "code",
      "metadata": {
        "id": "9Y0IqkusFRDV",
        "colab_type": "code",
        "outputId": "8daf6b16-1671-475a-bbd4-c40229f852c2",
        "colab": {
          "base_uri": "https://localhost:8080/",
          "height": 68
        }
      },
      "source": [
        "np.arange(10,51,1)"
      ],
      "execution_count": 0,
      "outputs": [
        {
          "output_type": "execute_result",
          "data": {
            "text/plain": [
              "array([10, 11, 12, 13, 14, 15, 16, 17, 18, 19, 20, 21, 22, 23, 24, 25, 26,\n",
              "       27, 28, 29, 30, 31, 32, 33, 34, 35, 36, 37, 38, 39, 40, 41, 42, 43,\n",
              "       44, 45, 46, 47, 48, 49, 50])"
            ]
          },
          "metadata": {
            "tags": []
          },
          "execution_count": 5
        }
      ]
    },
    {
      "cell_type": "code",
      "metadata": {
        "id": "v04KBureFRDg",
        "colab_type": "code",
        "outputId": "9bd5b574-5ae6-48e9-ff5b-e1c2ec4f7f08",
        "colab": {}
      },
      "source": [
        "# NO USAR ESTA CELDA PARA QUE NO SE BORRE EL RESULTADO ESPERADO"
      ],
      "execution_count": 0,
      "outputs": [
        {
          "output_type": "execute_result",
          "data": {
            "text/plain": [
              "array([10, 11, 12, 13, 14, 15, 16, 17, 18, 19, 20, 21, 22, 23, 24, 25, 26,\n",
              "       27, 28, 29, 30, 31, 32, 33, 34, 35, 36, 37, 38, 39, 40, 41, 42, 43,\n",
              "       44, 45, 46, 47, 48, 49, 50])"
            ]
          },
          "metadata": {
            "tags": []
          },
          "execution_count": 6
        }
      ]
    },
    {
      "cell_type": "markdown",
      "metadata": {
        "id": "djEpcZ7LFRDs",
        "colab_type": "text"
      },
      "source": [
        "#### Crear un arreglo de todos los números pares entre 10 y 50 (incluido)"
      ]
    },
    {
      "cell_type": "code",
      "metadata": {
        "id": "-_PJDIEiFRDx",
        "colab_type": "code",
        "outputId": "4a588c02-62c9-4216-f206-c63be10a1481",
        "colab": {
          "base_uri": "https://localhost:8080/",
          "height": 51
        }
      },
      "source": [
        "np.arange(10,51,2)"
      ],
      "execution_count": 0,
      "outputs": [
        {
          "output_type": "execute_result",
          "data": {
            "text/plain": [
              "array([10, 12, 14, 16, 18, 20, 22, 24, 26, 28, 30, 32, 34, 36, 38, 40, 42,\n",
              "       44, 46, 48, 50])"
            ]
          },
          "metadata": {
            "tags": []
          },
          "execution_count": 6
        }
      ]
    },
    {
      "cell_type": "code",
      "metadata": {
        "id": "ayKbGsa4FRD7",
        "colab_type": "code",
        "outputId": "3e392f89-ba0f-4459-f09d-ffcfb17ae3f3",
        "colab": {}
      },
      "source": [
        "# NO USAR ESTA CELDA PARA QUE NO SE BORRE EL RESULTADO ESPERADO"
      ],
      "execution_count": 0,
      "outputs": [
        {
          "output_type": "execute_result",
          "data": {
            "text/plain": [
              "array([10, 12, 14, 16, 18, 20, 22, 24, 26, 28, 30, 32, 34, 36, 38, 40, 42,\n",
              "       44, 46, 48, 50])"
            ]
          },
          "metadata": {
            "tags": []
          },
          "execution_count": 7
        }
      ]
    },
    {
      "cell_type": "markdown",
      "metadata": {
        "id": "CE0-alV_FREI",
        "colab_type": "text"
      },
      "source": [
        "#### Crear una matriz de 3x3 con valores desde 0 a 8"
      ]
    },
    {
      "cell_type": "code",
      "metadata": {
        "id": "6F3qe7W7FREM",
        "colab_type": "code",
        "outputId": "fc727c4c-b6db-4fa5-c778-a53cccb81a8d",
        "colab": {
          "base_uri": "https://localhost:8080/",
          "height": 68
        }
      },
      "source": [
        "matriz = np.arange(0,9).reshape(3,3)\n",
        "matriz"
      ],
      "execution_count": 0,
      "outputs": [
        {
          "output_type": "execute_result",
          "data": {
            "text/plain": [
              "array([[0, 1, 2],\n",
              "       [3, 4, 5],\n",
              "       [6, 7, 8]])"
            ]
          },
          "metadata": {
            "tags": []
          },
          "execution_count": 7
        }
      ]
    },
    {
      "cell_type": "code",
      "metadata": {
        "id": "qH_NAXbbFREV",
        "colab_type": "code",
        "outputId": "bfb2cfc4-db32-4a6c-e583-3e9bd74e2e08",
        "colab": {}
      },
      "source": [
        "# NO USAR ESTA CELDA PARA QUE NO SE BORRE EL RESULTADO ESPERADO"
      ],
      "execution_count": 0,
      "outputs": [
        {
          "output_type": "execute_result",
          "data": {
            "text/plain": [
              "array([[0, 1, 2],\n",
              "       [3, 4, 5],\n",
              "       [6, 7, 8]])"
            ]
          },
          "metadata": {
            "tags": []
          },
          "execution_count": 8
        }
      ]
    },
    {
      "cell_type": "markdown",
      "metadata": {
        "id": "g60aNu63FREe",
        "colab_type": "text"
      },
      "source": [
        "#### Crear una matriz identidad de 3x3"
      ]
    },
    {
      "cell_type": "code",
      "metadata": {
        "id": "V5cSxG5IFREn",
        "colab_type": "code",
        "outputId": "411c845f-6072-4a12-b375-1bdd387686cf",
        "colab": {
          "base_uri": "https://localhost:8080/",
          "height": 68
        }
      },
      "source": [
        "np.eye(3)"
      ],
      "execution_count": 0,
      "outputs": [
        {
          "output_type": "execute_result",
          "data": {
            "text/plain": [
              "array([[1., 0., 0.],\n",
              "       [0., 1., 0.],\n",
              "       [0., 0., 1.]])"
            ]
          },
          "metadata": {
            "tags": []
          },
          "execution_count": 8
        }
      ]
    },
    {
      "cell_type": "code",
      "metadata": {
        "id": "L-M-vKqKFRE0",
        "colab_type": "code",
        "outputId": "129f90a7-03df-4d54-a8f1-2f1bf970042b",
        "colab": {}
      },
      "source": [
        "# NO USAR ESTA CELDA PARA QUE NO SE BORRE EL RESULTADO ESPERADO"
      ],
      "execution_count": 0,
      "outputs": [
        {
          "output_type": "execute_result",
          "data": {
            "text/plain": [
              "array([[1., 0., 0.],\n",
              "       [0., 1., 0.],\n",
              "       [0., 0., 1.]])"
            ]
          },
          "metadata": {
            "tags": []
          },
          "execution_count": 9
        }
      ]
    },
    {
      "cell_type": "markdown",
      "metadata": {
        "id": "Z2QDu5P1FRFF",
        "colab_type": "text"
      },
      "source": [
        "#### Usar NumPy para generar un número aleatorio entre 0 y 1"
      ]
    },
    {
      "cell_type": "code",
      "metadata": {
        "id": "CcXNJKmyFRFI",
        "colab_type": "code",
        "outputId": "7f7f77b9-2a09-495f-eba2-de7b4f1d8e0f",
        "colab": {
          "base_uri": "https://localhost:8080/",
          "height": 34
        }
      },
      "source": [
        "np.random.rand(1)"
      ],
      "execution_count": 0,
      "outputs": [
        {
          "output_type": "execute_result",
          "data": {
            "text/plain": [
              "array([0.68442761])"
            ]
          },
          "metadata": {
            "tags": []
          },
          "execution_count": 9
        }
      ]
    },
    {
      "cell_type": "code",
      "metadata": {
        "id": "BusD0EbYFRFR",
        "colab_type": "code",
        "outputId": "38b89431-305e-4c67-b16a-1f31dfb04a74",
        "colab": {}
      },
      "source": [
        "# NO USAR ESTA CELDA PARA QUE NO SE BORRE EL RESULTADO ESPERADO\n",
        "# Su resultado será diferente"
      ],
      "execution_count": 0,
      "outputs": [
        {
          "output_type": "execute_result",
          "data": {
            "text/plain": [
              "array([0.13938024])"
            ]
          },
          "metadata": {
            "tags": []
          },
          "execution_count": 10
        }
      ]
    },
    {
      "cell_type": "markdown",
      "metadata": {
        "id": "KTRJ_g_GFRFg",
        "colab_type": "text"
      },
      "source": [
        "#### Usar NumPy para generar 25 números aleatorios con una distribución de probabilidad normal"
      ]
    },
    {
      "cell_type": "code",
      "metadata": {
        "id": "9MAqhCOWFRFk",
        "colab_type": "code",
        "outputId": "b1ac6704-2532-4584-afbf-518ab101a7c1",
        "colab": {
          "base_uri": "https://localhost:8080/",
          "height": 102
        }
      },
      "source": [
        "np.random.randn(25)"
      ],
      "execution_count": 0,
      "outputs": [
        {
          "output_type": "execute_result",
          "data": {
            "text/plain": [
              "array([ 2.27296813,  1.67826293, -0.12233043,  1.55729464, -0.54529965,\n",
              "       -0.30962357, -0.48093858,  0.91446584, -0.59670054,  1.13575022,\n",
              "       -1.50811256,  0.1354967 ,  0.54453063, -1.42455263, -0.71464291,\n",
              "        0.1282275 ,  1.7099519 ,  0.16194812,  1.5803819 ,  0.25932668,\n",
              "        1.5133921 , -0.9144297 , -1.1947313 , -0.24488261, -1.20419483])"
            ]
          },
          "metadata": {
            "tags": []
          },
          "execution_count": 10
        }
      ]
    },
    {
      "cell_type": "code",
      "metadata": {
        "id": "vyf6Pk2kFRFo",
        "colab_type": "code",
        "outputId": "a731dfd8-0f36-4f8d-8b57-dcecd21bcb4c",
        "colab": {}
      },
      "source": [
        "# NO USAR ESTA CELDA PARA QUE NO SE BORRE EL RESULTADO ESPERADO\n",
        "# Su resultado será diferente"
      ],
      "execution_count": 0,
      "outputs": [
        {
          "output_type": "execute_result",
          "data": {
            "text/plain": [
              "array([-1.60723448,  1.85783081, -2.14544697,  0.77663188, -0.61915835,\n",
              "        0.52499653, -0.3833644 ,  1.02223757, -0.78965458,  0.26970229,\n",
              "       -0.88277958,  1.6956793 , -0.96679527, -0.18010509,  0.82531597,\n",
              "        1.05375325,  0.70396789, -0.12785109,  0.12090562, -1.66501872,\n",
              "       -0.73229563,  0.78010825, -0.39308434, -0.07028025, -0.34120063])"
            ]
          },
          "metadata": {
            "tags": []
          },
          "execution_count": 12
        }
      ]
    },
    {
      "cell_type": "markdown",
      "metadata": {
        "id": "J2iveSrCFRFx",
        "colab_type": "text"
      },
      "source": [
        "#### Crear la siguiente matriz:"
      ]
    },
    {
      "cell_type": "code",
      "metadata": {
        "id": "QtC6oQaFFRFy",
        "colab_type": "code",
        "outputId": "ad208809-e60a-40c6-bf71-5a4808e1fa75",
        "colab": {
          "base_uri": "https://localhost:8080/",
          "height": 196
        }
      },
      "source": [
        "\n",
        "np.linspace(0.01,1,100).reshape(10,10)"
      ],
      "execution_count": 5,
      "outputs": [
        {
          "output_type": "execute_result",
          "data": {
            "text/plain": [
              "array([[0.01, 0.02, 0.03, 0.04, 0.05, 0.06, 0.07, 0.08, 0.09, 0.1 ],\n",
              "       [0.11, 0.12, 0.13, 0.14, 0.15, 0.16, 0.17, 0.18, 0.19, 0.2 ],\n",
              "       [0.21, 0.22, 0.23, 0.24, 0.25, 0.26, 0.27, 0.28, 0.29, 0.3 ],\n",
              "       [0.31, 0.32, 0.33, 0.34, 0.35, 0.36, 0.37, 0.38, 0.39, 0.4 ],\n",
              "       [0.41, 0.42, 0.43, 0.44, 0.45, 0.46, 0.47, 0.48, 0.49, 0.5 ],\n",
              "       [0.51, 0.52, 0.53, 0.54, 0.55, 0.56, 0.57, 0.58, 0.59, 0.6 ],\n",
              "       [0.61, 0.62, 0.63, 0.64, 0.65, 0.66, 0.67, 0.68, 0.69, 0.7 ],\n",
              "       [0.71, 0.72, 0.73, 0.74, 0.75, 0.76, 0.77, 0.78, 0.79, 0.8 ],\n",
              "       [0.81, 0.82, 0.83, 0.84, 0.85, 0.86, 0.87, 0.88, 0.89, 0.9 ],\n",
              "       [0.91, 0.92, 0.93, 0.94, 0.95, 0.96, 0.97, 0.98, 0.99, 1.  ]])"
            ]
          },
          "metadata": {
            "tags": []
          },
          "execution_count": 5
        }
      ]
    },
    {
      "cell_type": "code",
      "metadata": {
        "id": "kz0WUYGdFRF3",
        "colab_type": "code",
        "outputId": "4dac96b6-b10d-4bcb-ff2e-caa969771591",
        "colab": {}
      },
      "source": [
        "# NO USAR ESTA CELDA PARA QUE NO SE BORRE EL RESULTADO ESPERADO"
      ],
      "execution_count": 0,
      "outputs": [
        {
          "output_type": "execute_result",
          "data": {
            "text/plain": [
              "array([[0.01, 0.02, 0.03, 0.04, 0.05, 0.06, 0.07, 0.08, 0.09, 0.1 ],\n",
              "       [0.11, 0.12, 0.13, 0.14, 0.15, 0.16, 0.17, 0.18, 0.19, 0.2 ],\n",
              "       [0.21, 0.22, 0.23, 0.24, 0.25, 0.26, 0.27, 0.28, 0.29, 0.3 ],\n",
              "       [0.31, 0.32, 0.33, 0.34, 0.35, 0.36, 0.37, 0.38, 0.39, 0.4 ],\n",
              "       [0.41, 0.42, 0.43, 0.44, 0.45, 0.46, 0.47, 0.48, 0.49, 0.5 ],\n",
              "       [0.51, 0.52, 0.53, 0.54, 0.55, 0.56, 0.57, 0.58, 0.59, 0.6 ],\n",
              "       [0.61, 0.62, 0.63, 0.64, 0.65, 0.66, 0.67, 0.68, 0.69, 0.7 ],\n",
              "       [0.71, 0.72, 0.73, 0.74, 0.75, 0.76, 0.77, 0.78, 0.79, 0.8 ],\n",
              "       [0.81, 0.82, 0.83, 0.84, 0.85, 0.86, 0.87, 0.88, 0.89, 0.9 ],\n",
              "       [0.91, 0.92, 0.93, 0.94, 0.95, 0.96, 0.97, 0.98, 0.99, 1.  ]])"
            ]
          },
          "metadata": {
            "tags": []
          },
          "execution_count": 13
        }
      ]
    },
    {
      "cell_type": "code",
      "metadata": {
        "id": "lehXJaM3FRGO",
        "colab_type": "code",
        "colab": {}
      },
      "source": [
        ""
      ],
      "execution_count": 0,
      "outputs": []
    },
    {
      "cell_type": "code",
      "metadata": {
        "id": "CCdo1OmmFRGU",
        "colab_type": "code",
        "outputId": "87d7fb61-ae24-48ba-85e6-f14fda43bec5",
        "colab": {}
      },
      "source": [
        "# NO USAR ESTA CELDA PARA QUE NO SE BORRE EL RESULTADO ESPERADO\n",
        "# Existen varias soluciones"
      ],
      "execution_count": 0,
      "outputs": [
        {
          "output_type": "execute_result",
          "data": {
            "text/plain": [
              "array([[0.01, 0.02, 0.03, 0.04, 0.05, 0.06, 0.07, 0.08, 0.09, 0.1 ],\n",
              "       [0.11, 0.12, 0.13, 0.14, 0.15, 0.16, 0.17, 0.18, 0.19, 0.2 ],\n",
              "       [0.21, 0.22, 0.23, 0.24, 0.25, 0.26, 0.27, 0.28, 0.29, 0.3 ],\n",
              "       [0.31, 0.32, 0.33, 0.34, 0.35, 0.36, 0.37, 0.38, 0.39, 0.4 ],\n",
              "       [0.41, 0.42, 0.43, 0.44, 0.45, 0.46, 0.47, 0.48, 0.49, 0.5 ],\n",
              "       [0.51, 0.52, 0.53, 0.54, 0.55, 0.56, 0.57, 0.58, 0.59, 0.6 ],\n",
              "       [0.61, 0.62, 0.63, 0.64, 0.65, 0.66, 0.67, 0.68, 0.69, 0.7 ],\n",
              "       [0.71, 0.72, 0.73, 0.74, 0.75, 0.76, 0.77, 0.78, 0.79, 0.8 ],\n",
              "       [0.81, 0.82, 0.83, 0.84, 0.85, 0.86, 0.87, 0.88, 0.89, 0.9 ],\n",
              "       [0.91, 0.92, 0.93, 0.94, 0.95, 0.96, 0.97, 0.98, 0.99, 1.  ]])"
            ]
          },
          "metadata": {
            "tags": []
          },
          "execution_count": 15
        }
      ]
    },
    {
      "cell_type": "markdown",
      "metadata": {
        "id": "VBDwg-GtFRGf",
        "colab_type": "text"
      },
      "source": [
        "#### Crear un arreglo de 20 elementos linealmente separados entre 0 y 1:"
      ]
    },
    {
      "cell_type": "code",
      "metadata": {
        "id": "gKJZUwDbFRGh",
        "colab_type": "code",
        "outputId": "3fdca8ed-27dc-4c6a-f6b7-4d0b63a805f7",
        "colab": {
          "base_uri": "https://localhost:8080/",
          "height": 85
        }
      },
      "source": [
        "np.linspace(0,1,20)"
      ],
      "execution_count": 0,
      "outputs": [
        {
          "output_type": "execute_result",
          "data": {
            "text/plain": [
              "array([0.        , 0.05263158, 0.10526316, 0.15789474, 0.21052632,\n",
              "       0.26315789, 0.31578947, 0.36842105, 0.42105263, 0.47368421,\n",
              "       0.52631579, 0.57894737, 0.63157895, 0.68421053, 0.73684211,\n",
              "       0.78947368, 0.84210526, 0.89473684, 0.94736842, 1.        ])"
            ]
          },
          "metadata": {
            "tags": []
          },
          "execution_count": 12
        }
      ]
    },
    {
      "cell_type": "code",
      "metadata": {
        "id": "XoU1h5l9FRGo",
        "colab_type": "code",
        "outputId": "3c101233-74d1-4041-b0c6-31ec98cea08f",
        "colab": {}
      },
      "source": [
        "# NO USAR ESTA CELDA PARA QUE NO SE BORRE EL RESULTADO ESPERADO"
      ],
      "execution_count": 0,
      "outputs": [
        {
          "output_type": "execute_result",
          "data": {
            "text/plain": [
              "array([0.        , 0.05263158, 0.10526316, 0.15789474, 0.21052632,\n",
              "       0.26315789, 0.31578947, 0.36842105, 0.42105263, 0.47368421,\n",
              "       0.52631579, 0.57894737, 0.63157895, 0.68421053, 0.73684211,\n",
              "       0.78947368, 0.84210526, 0.89473684, 0.94736842, 1.        ])"
            ]
          },
          "metadata": {
            "tags": []
          },
          "execution_count": 16
        }
      ]
    },
    {
      "cell_type": "markdown",
      "metadata": {
        "id": "pfbIq4JIFRGt",
        "colab_type": "text"
      },
      "source": [
        "## Numpy - Índices y Selección\n",
        "\n",
        "A partir de la siguiente matriz, replique los resultados que se presentan a continuación:"
      ]
    },
    {
      "cell_type": "code",
      "metadata": {
        "id": "4nzzxJD2FRGv",
        "colab_type": "code",
        "outputId": "04e94bda-da9c-4248-b2fc-9fcaa58e66a3",
        "colab": {
          "base_uri": "https://localhost:8080/",
          "height": 102
        }
      },
      "source": [
        "mat = np.arange(1,26).reshape(5,5)\n",
        "mat"
      ],
      "execution_count": 0,
      "outputs": [
        {
          "output_type": "execute_result",
          "data": {
            "text/plain": [
              "array([[ 1,  2,  3,  4,  5],\n",
              "       [ 6,  7,  8,  9, 10],\n",
              "       [11, 12, 13, 14, 15],\n",
              "       [16, 17, 18, 19, 20],\n",
              "       [21, 22, 23, 24, 25]])"
            ]
          },
          "metadata": {
            "tags": []
          },
          "execution_count": 13
        }
      ]
    },
    {
      "cell_type": "code",
      "metadata": {
        "id": "_5Hjk_3YFRGz",
        "colab_type": "code",
        "outputId": "4d98eaf5-55b9-4055-e439-7b19fb277009",
        "colab": {
          "base_uri": "https://localhost:8080/",
          "height": 72
        }
      },
      "source": [
        "# ESCRIBA SU CODIGO AQUI PARA NO BORRAR EL RESULTADO ESPERADO\n",
        "mat[2:,1:]"
      ],
      "execution_count": 0,
      "outputs": [
        {
          "output_type": "execute_result",
          "data": {
            "text/plain": [
              "array([[12, 13, 14, 15],\n",
              "       [17, 18, 19, 20],\n",
              "       [22, 23, 24, 25]])"
            ]
          },
          "metadata": {
            "tags": []
          },
          "execution_count": 80
        }
      ]
    },
    {
      "cell_type": "code",
      "metadata": {
        "id": "BZ1h6nbdFRG6",
        "colab_type": "code",
        "outputId": "1922f600-0496-4756-f5c5-23e3ec8a6e78",
        "colab": {}
      },
      "source": [
        "# NO USAR ESTA CELDA PARA QUE NO SE BORRE EL RESULTADO ESPERADO"
      ],
      "execution_count": 0,
      "outputs": [
        {
          "output_type": "execute_result",
          "data": {
            "text/plain": [
              "array([[12, 13, 14, 15],\n",
              "       [17, 18, 19, 20],\n",
              "       [22, 23, 24, 25]])"
            ]
          },
          "metadata": {
            "tags": []
          },
          "execution_count": 19
        }
      ]
    },
    {
      "cell_type": "code",
      "metadata": {
        "id": "Nt9t8kH7FRG_",
        "colab_type": "code",
        "outputId": "7ad73448-2185-40df-9023-4330ddd32221",
        "colab": {
          "base_uri": "https://localhost:8080/",
          "height": 34
        }
      },
      "source": [
        "# ESCRIBA SU CODIGO AQUI PARA NO BORRAR EL RESULTADO ESPERADO\n",
        "mat[3][4]"
      ],
      "execution_count": 0,
      "outputs": [
        {
          "output_type": "execute_result",
          "data": {
            "text/plain": [
              "20"
            ]
          },
          "metadata": {
            "tags": []
          },
          "execution_count": 19
        }
      ]
    },
    {
      "cell_type": "code",
      "metadata": {
        "id": "UYuDMi-oFRHC",
        "colab_type": "code",
        "outputId": "6ffaec31-3a9b-46fa-9be9-4b21e960d9d0",
        "colab": {}
      },
      "source": [
        "# NO USAR ESTA CELDA PARA QUE NO SE BORRE EL RESULTADO ESPERADO"
      ],
      "execution_count": 0,
      "outputs": [
        {
          "output_type": "execute_result",
          "data": {
            "text/plain": [
              "20"
            ]
          },
          "metadata": {
            "tags": []
          },
          "execution_count": 21
        }
      ]
    },
    {
      "cell_type": "code",
      "metadata": {
        "id": "7ayVDEYjFRHX",
        "colab_type": "code",
        "outputId": "425eeabe-638c-404f-ab1f-280025b48fe8",
        "colab": {
          "base_uri": "https://localhost:8080/",
          "height": 68
        }
      },
      "source": [
        "# ESCRIBA SU CODIGO AQUI PARA NO BORRAR EL RESULTADO ESPERADO\n",
        " mat[:3,1].reshape(3,1)"
      ],
      "execution_count": 0,
      "outputs": [
        {
          "output_type": "execute_result",
          "data": {
            "text/plain": [
              "array([[ 2],\n",
              "       [ 7],\n",
              "       [12]])"
            ]
          },
          "metadata": {
            "tags": []
          },
          "execution_count": 38
        }
      ]
    },
    {
      "cell_type": "code",
      "metadata": {
        "id": "oub9zcbEFRHh",
        "colab_type": "code",
        "outputId": "07e0aa7c-5b70-4baa-fccb-ce2bb6b6e7dd",
        "colab": {}
      },
      "source": [
        "# NO USAR ESTA CELDA PARA QUE NO SE BORRE EL RESULTADO ESPERADO"
      ],
      "execution_count": 0,
      "outputs": [
        {
          "output_type": "execute_result",
          "data": {
            "text/plain": [
              "array([[ 2],\n",
              "       [ 7],\n",
              "       [12]])"
            ]
          },
          "metadata": {
            "tags": []
          },
          "execution_count": 23
        }
      ]
    },
    {
      "cell_type": "code",
      "metadata": {
        "id": "VWL9spuDFRHm",
        "colab_type": "code",
        "outputId": "f6d7cbf9-7b10-4328-a389-318837573a27",
        "colab": {
          "base_uri": "https://localhost:8080/",
          "height": 34
        }
      },
      "source": [
        "# ESCRIBA SU CODIGO AQUI PARA NO BORRAR EL RESULTADO ESPERADO\n",
        "mat[4:,:]"
      ],
      "execution_count": 0,
      "outputs": [
        {
          "output_type": "execute_result",
          "data": {
            "text/plain": [
              "array([[21, 22, 23, 24, 25]])"
            ]
          },
          "metadata": {
            "tags": []
          },
          "execution_count": 39
        }
      ]
    },
    {
      "cell_type": "code",
      "metadata": {
        "id": "FJFnTHYvFRHt",
        "colab_type": "code",
        "outputId": "bdcc29ae-2d37-43f3-d540-f57b9fbeb17f",
        "colab": {}
      },
      "source": [
        "# NO USAR ESTA CELDA PARA QUE NO SE BORRE EL RESULTADO ESPERADO"
      ],
      "execution_count": 0,
      "outputs": [
        {
          "output_type": "execute_result",
          "data": {
            "text/plain": [
              "array([21, 22, 23, 24, 25])"
            ]
          },
          "metadata": {
            "tags": []
          },
          "execution_count": 25
        }
      ]
    },
    {
      "cell_type": "code",
      "metadata": {
        "id": "7RZ9V-8YFRH1",
        "colab_type": "code",
        "outputId": "99c5879e-4f26-49a9-da1f-4b840d6b7a77",
        "colab": {
          "base_uri": "https://localhost:8080/",
          "height": 51
        }
      },
      "source": [
        "# ESCRIBA SU CODIGO AQUI PARA NO BORRAR EL RESULTADO ESPERADO\n",
        "mat[3:,:]"
      ],
      "execution_count": 0,
      "outputs": [
        {
          "output_type": "execute_result",
          "data": {
            "text/plain": [
              "array([[16, 17, 18, 19, 20],\n",
              "       [21, 22, 23, 24, 25]])"
            ]
          },
          "metadata": {
            "tags": []
          },
          "execution_count": 40
        }
      ]
    },
    {
      "cell_type": "code",
      "metadata": {
        "id": "3PNv1guSFRH5",
        "colab_type": "code",
        "outputId": "65f62f03-e340-4e38-975b-8b163790da5f",
        "colab": {}
      },
      "source": [
        "# NO USAR ESTA CELDA PARA QUE NO SE BORRE EL RESULTADO ESPERADO"
      ],
      "execution_count": 0,
      "outputs": [
        {
          "output_type": "execute_result",
          "data": {
            "text/plain": [
              "array([[16, 17, 18, 19, 20],\n",
              "       [21, 22, 23, 24, 25]])"
            ]
          },
          "metadata": {
            "tags": []
          },
          "execution_count": 27
        }
      ]
    },
    {
      "cell_type": "markdown",
      "metadata": {
        "id": "MvlPoUhMFRH_",
        "colab_type": "text"
      },
      "source": [
        "## NumPy - Operaciones"
      ]
    },
    {
      "cell_type": "markdown",
      "metadata": {
        "id": "gjyiTZ28FRIB",
        "colab_type": "text"
      },
      "source": [
        "#### Obtener la suma de todos los valores de la matriz 'mat'"
      ]
    },
    {
      "cell_type": "code",
      "metadata": {
        "id": "T--fEzq3FRID",
        "colab_type": "code",
        "outputId": "f4f6c652-547a-4770-84db-c2e2527721a8",
        "colab": {
          "base_uri": "https://localhost:8080/",
          "height": 34
        }
      },
      "source": [
        "mat.sum()"
      ],
      "execution_count": 0,
      "outputs": [
        {
          "output_type": "execute_result",
          "data": {
            "text/plain": [
              "325"
            ]
          },
          "metadata": {
            "tags": []
          },
          "execution_count": 41
        }
      ]
    },
    {
      "cell_type": "code",
      "metadata": {
        "id": "KR7tp0h_FRIK",
        "colab_type": "code",
        "outputId": "2a6e608a-a843-49b0-e7b3-4475a7b2769c",
        "colab": {}
      },
      "source": [
        "# NO USAR ESTA CELDA PARA QUE NO SE BORRE EL RESULTADO ESPERADO"
      ],
      "execution_count": 0,
      "outputs": [
        {
          "output_type": "execute_result",
          "data": {
            "text/plain": [
              "325"
            ]
          },
          "metadata": {
            "tags": []
          },
          "execution_count": 28
        }
      ]
    },
    {
      "cell_type": "markdown",
      "metadata": {
        "id": "marpjTh_FRIP",
        "colab_type": "text"
      },
      "source": [
        "#### Obtener las desviación estándar de los valores en la matriz 'mat'"
      ]
    },
    {
      "cell_type": "code",
      "metadata": {
        "id": "Lc8FBsxuFRIQ",
        "colab_type": "code",
        "outputId": "5001062d-efc6-47b2-f3f6-dc1f28821ffe",
        "colab": {
          "base_uri": "https://localhost:8080/",
          "height": 34
        }
      },
      "source": [
        "mat.std()"
      ],
      "execution_count": 0,
      "outputs": [
        {
          "output_type": "execute_result",
          "data": {
            "text/plain": [
              "7.211102550927978"
            ]
          },
          "metadata": {
            "tags": []
          },
          "execution_count": 43
        }
      ]
    },
    {
      "cell_type": "code",
      "metadata": {
        "id": "cVZi9E1fFRIT",
        "colab_type": "code",
        "outputId": "4bc5dacb-5b86-4624-dfb1-46e71a82682d",
        "colab": {}
      },
      "source": [
        "# NO USAR ESTA CELDA PARA QUE NO SE BORRE EL RESULTADO ESPERADO"
      ],
      "execution_count": 0,
      "outputs": [
        {
          "output_type": "execute_result",
          "data": {
            "text/plain": [
              "7.211102550927978"
            ]
          },
          "metadata": {
            "tags": []
          },
          "execution_count": 30
        }
      ]
    },
    {
      "cell_type": "markdown",
      "metadata": {
        "id": "ojsUA-PJFRI6",
        "colab_type": "text"
      },
      "source": [
        "#### Obtener la suma de los valores en cada columna de la matriz"
      ]
    },
    {
      "cell_type": "code",
      "metadata": {
        "id": "aanKghebFRI9",
        "colab_type": "code",
        "outputId": "f01b8e79-226e-4732-aa4a-bfc4c29d8e69",
        "colab": {
          "base_uri": "https://localhost:8080/",
          "height": 34
        }
      },
      "source": [
        "mat.sum(axis=0)"
      ],
      "execution_count": 0,
      "outputs": [
        {
          "output_type": "execute_result",
          "data": {
            "text/plain": [
              "array([55, 60, 65, 70, 75])"
            ]
          },
          "metadata": {
            "tags": []
          },
          "execution_count": 44
        }
      ]
    },
    {
      "cell_type": "code",
      "metadata": {
        "id": "FMOJKRtoFRJA",
        "colab_type": "code",
        "outputId": "ccde838f-a201-4155-8a39-c0da221238b9",
        "colab": {}
      },
      "source": [
        "# NO USAR ESTA CELDA PARA QUE NO SE BORRE EL RESULTADO ESPERADO"
      ],
      "execution_count": 0,
      "outputs": [
        {
          "output_type": "execute_result",
          "data": {
            "text/plain": [
              "array([55, 60, 65, 70, 75])"
            ]
          },
          "metadata": {
            "tags": []
          },
          "execution_count": 53
        }
      ]
    }
  ]
}